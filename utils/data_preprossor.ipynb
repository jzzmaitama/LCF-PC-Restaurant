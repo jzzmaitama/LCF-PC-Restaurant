{
 "cells": [
  {
   "cell_type": "code",
   "execution_count": 1,
   "id": "initial_id",
   "metadata": {
    "collapsed": true,
    "ExecuteTime": {
     "end_time": "2024-06-25T19:49:37.952557Z",
     "start_time": "2024-06-25T19:49:35.300175Z"
    }
   },
   "outputs": [],
   "source": [
    "import pandas as pd\n",
    "train_data = pd.read_csv(\"Train.csv\")\n",
    "test_data = pd.read_csv(\"Test.csv\")\n"
   ]
  },
  {
   "cell_type": "code",
   "outputs": [
    {
     "data": {
      "text/plain": "                                        Review Sentence           Aspect term  \\\n0                  But the staff was so horrible to us.                 staff   \n1     To be completely fair, the only redeeming fact...                  food   \n2     The food is uniformly exceptional, with a very...                  food   \n3     The food is uniformly exceptional, with a very...               kitchen   \n4     The food is uniformly exceptional, with a very...                  menu   \n...                                                 ...                   ...   \n3693  Each table has a pot of boiling water sunken i...  pot of boiling water   \n3694  Each table has a pot of boiling water sunken i...                 meats   \n3695  Each table has a pot of boiling water sunken i...            vegetables   \n3696  Each table has a pot of boiling water sunken i...                  rice   \n3697  Each table has a pot of boiling water sunken i...         glass noodles   \n\n      polarity  from   to  Anger  Disgust  Fear  Joy  Sadness  Surprise  \\\n0     negative     8   13      4        1   1.0  0.0      3.0         1   \n1     positive    57   61      0        0   0.0  2.0      0.0         0   \n2     positive     4    8      0        0   0.0  4.0      0.0         0   \n3     positive    55   62      0        0   0.0  4.0      0.0         0   \n4      neutral   141  145      0        0   0.0  4.0      0.0         0   \n...        ...   ...  ...    ...      ...   ...  ...      ...       ...   \n3693   neutral    17   37      2        2   0.0  1.0      0.0         0   \n3694   neutral    99  104      0        0   0.0  3.0      0.0         1   \n3695   neutral   114  124      0        0   0.0  2.0      0.0         1   \n3696   neutral   130  134      0        0   0.0  2.0      0.0         1   \n3697   neutral   139  152      0        0   0.0  2.0      0.0         1   \n\n     Emotion Class                              emotion context words  \n0            Anger                                           horrible  \n1              Joy                            which was above average  \n2              Joy        uniformly exceptional, very capable proudly  \n3              Joy          uniformly exceptional very capableproudly  \n4              Joy           uniformly exceptionalvery capableproudly  \n...            ...                                                ...  \n3693         Anger  sunken into its surfaceyou get platters of thi...  \n3694           Joy  sunken into its surfaceyou get platters of thi...  \n3695           Joy  sunken into its surfaceyou get platters of thi...  \n3696           Joy  sunken into its surfaceyou get platters of thi...  \n3697           Joy  sunken into its surfaceyou get platters of thi...  \n\n[3698 rows x 13 columns]",
      "text/html": "<div>\n<style scoped>\n    .dataframe tbody tr th:only-of-type {\n        vertical-align: middle;\n    }\n\n    .dataframe tbody tr th {\n        vertical-align: top;\n    }\n\n    .dataframe thead th {\n        text-align: right;\n    }\n</style>\n<table border=\"1\" class=\"dataframe\">\n  <thead>\n    <tr style=\"text-align: right;\">\n      <th></th>\n      <th>Review Sentence</th>\n      <th>Aspect term</th>\n      <th>polarity</th>\n      <th>from</th>\n      <th>to</th>\n      <th>Anger</th>\n      <th>Disgust</th>\n      <th>Fear</th>\n      <th>Joy</th>\n      <th>Sadness</th>\n      <th>Surprise</th>\n      <th>Emotion Class</th>\n      <th>emotion context words</th>\n    </tr>\n  </thead>\n  <tbody>\n    <tr>\n      <th>0</th>\n      <td>But the staff was so horrible to us.</td>\n      <td>staff</td>\n      <td>negative</td>\n      <td>8</td>\n      <td>13</td>\n      <td>4</td>\n      <td>1</td>\n      <td>1.0</td>\n      <td>0.0</td>\n      <td>3.0</td>\n      <td>1</td>\n      <td>Anger</td>\n      <td>horrible</td>\n    </tr>\n    <tr>\n      <th>1</th>\n      <td>To be completely fair, the only redeeming fact...</td>\n      <td>food</td>\n      <td>positive</td>\n      <td>57</td>\n      <td>61</td>\n      <td>0</td>\n      <td>0</td>\n      <td>0.0</td>\n      <td>2.0</td>\n      <td>0.0</td>\n      <td>0</td>\n      <td>Joy</td>\n      <td>which was above average</td>\n    </tr>\n    <tr>\n      <th>2</th>\n      <td>The food is uniformly exceptional, with a very...</td>\n      <td>food</td>\n      <td>positive</td>\n      <td>4</td>\n      <td>8</td>\n      <td>0</td>\n      <td>0</td>\n      <td>0.0</td>\n      <td>4.0</td>\n      <td>0.0</td>\n      <td>0</td>\n      <td>Joy</td>\n      <td>uniformly exceptional, very capable proudly</td>\n    </tr>\n    <tr>\n      <th>3</th>\n      <td>The food is uniformly exceptional, with a very...</td>\n      <td>kitchen</td>\n      <td>positive</td>\n      <td>55</td>\n      <td>62</td>\n      <td>0</td>\n      <td>0</td>\n      <td>0.0</td>\n      <td>4.0</td>\n      <td>0.0</td>\n      <td>0</td>\n      <td>Joy</td>\n      <td>uniformly exceptional very capableproudly</td>\n    </tr>\n    <tr>\n      <th>4</th>\n      <td>The food is uniformly exceptional, with a very...</td>\n      <td>menu</td>\n      <td>neutral</td>\n      <td>141</td>\n      <td>145</td>\n      <td>0</td>\n      <td>0</td>\n      <td>0.0</td>\n      <td>4.0</td>\n      <td>0.0</td>\n      <td>0</td>\n      <td>Joy</td>\n      <td>uniformly exceptionalvery capableproudly</td>\n    </tr>\n    <tr>\n      <th>...</th>\n      <td>...</td>\n      <td>...</td>\n      <td>...</td>\n      <td>...</td>\n      <td>...</td>\n      <td>...</td>\n      <td>...</td>\n      <td>...</td>\n      <td>...</td>\n      <td>...</td>\n      <td>...</td>\n      <td>...</td>\n      <td>...</td>\n    </tr>\n    <tr>\n      <th>3693</th>\n      <td>Each table has a pot of boiling water sunken i...</td>\n      <td>pot of boiling water</td>\n      <td>neutral</td>\n      <td>17</td>\n      <td>37</td>\n      <td>2</td>\n      <td>2</td>\n      <td>0.0</td>\n      <td>1.0</td>\n      <td>0.0</td>\n      <td>0</td>\n      <td>Anger</td>\n      <td>sunken into its surfaceyou get platters of thi...</td>\n    </tr>\n    <tr>\n      <th>3694</th>\n      <td>Each table has a pot of boiling water sunken i...</td>\n      <td>meats</td>\n      <td>neutral</td>\n      <td>99</td>\n      <td>104</td>\n      <td>0</td>\n      <td>0</td>\n      <td>0.0</td>\n      <td>3.0</td>\n      <td>0.0</td>\n      <td>1</td>\n      <td>Joy</td>\n      <td>sunken into its surfaceyou get platters of thi...</td>\n    </tr>\n    <tr>\n      <th>3695</th>\n      <td>Each table has a pot of boiling water sunken i...</td>\n      <td>vegetables</td>\n      <td>neutral</td>\n      <td>114</td>\n      <td>124</td>\n      <td>0</td>\n      <td>0</td>\n      <td>0.0</td>\n      <td>2.0</td>\n      <td>0.0</td>\n      <td>1</td>\n      <td>Joy</td>\n      <td>sunken into its surfaceyou get platters of thi...</td>\n    </tr>\n    <tr>\n      <th>3696</th>\n      <td>Each table has a pot of boiling water sunken i...</td>\n      <td>rice</td>\n      <td>neutral</td>\n      <td>130</td>\n      <td>134</td>\n      <td>0</td>\n      <td>0</td>\n      <td>0.0</td>\n      <td>2.0</td>\n      <td>0.0</td>\n      <td>1</td>\n      <td>Joy</td>\n      <td>sunken into its surfaceyou get platters of thi...</td>\n    </tr>\n    <tr>\n      <th>3697</th>\n      <td>Each table has a pot of boiling water sunken i...</td>\n      <td>glass noodles</td>\n      <td>neutral</td>\n      <td>139</td>\n      <td>152</td>\n      <td>0</td>\n      <td>0</td>\n      <td>0.0</td>\n      <td>2.0</td>\n      <td>0.0</td>\n      <td>1</td>\n      <td>Joy</td>\n      <td>sunken into its surfaceyou get platters of thi...</td>\n    </tr>\n  </tbody>\n</table>\n<p>3698 rows × 13 columns</p>\n</div>"
     },
     "execution_count": 2,
     "metadata": {},
     "output_type": "execute_result"
    }
   ],
   "source": [
    "train_data"
   ],
   "metadata": {
    "collapsed": false,
    "ExecuteTime": {
     "end_time": "2024-06-25T19:49:38.124198Z",
     "start_time": "2024-06-25T19:49:37.957637Z"
    }
   },
   "id": "304ce071765820d9",
   "execution_count": 2
  },
  {
   "cell_type": "code",
   "outputs": [
    {
     "data": {
      "text/plain": "                                        Review Sentence  \\\n0                       The bread is top notch as well.   \n1     I have to say they have one of the fastest del...   \n2           Food is always fresh and hot- ready to eat!   \n3         Did I mention that the coffee is OUTSTANDING?   \n4     Certainly not the best sushi in New York, howe...   \n...                                                 ...   \n1129  Creamy appetizers--taramasalata, eggplant sala...   \n1130  Creamy appetizers--taramasalata, eggplant sala...   \n1131  Creamy appetizers--taramasalata, eggplant sala...   \n1132  Creamy appetizers--taramasalata, eggplant sala...   \n1133  Creamy appetizers--taramasalata, eggplant sala...   \n\n                                          Aspect term  polarity  from   to  \\\n0                                               bread  positive     4    9   \n1                                      delivery times  positive    43   57   \n2                                                Food  positive     0    4   \n3                                              coffee  positive    23   29   \n4                                               sushi  conflict    23   28   \n...                                               ...       ...   ...  ...   \n1129                                Creamy appetizers  positive     0   17   \n1130                                       warm pitas   neutral   125  135   \n1131                                     taramasalata  positive    19   31   \n1132                                   eggplant salad  positive    33   47   \n1133  Greek yogurt (with cuccumber, dill, and garlic)  positive    53  100   \n\n      Anger  Disgust  Fear  Joy  Sadness  Surprise Emotion Class  \\\n0       0.0      0.0   0.0  3.0      0.0       2.0           Joy   \n1       0.0      0.0   0.0  2.0      0.0       2.0           Joy   \n2       0.0      0.0   0.0  3.0      0.0       3.0           Joy   \n3       0.0      0.0   0.0  2.0      0.0       3.0      Surprise   \n4       2.0      3.0   0.0  0.0      3.0       0.0       Disgust   \n...     ...      ...   ...  ...      ...       ...           ...   \n1129    0.0      0.0   0.0  3.0      0.0       2.0           Joy   \n1130    0.0      0.0   0.0  3.0      0.0       2.0           Joy   \n1131    0.0      0.0   0.0  3.0      0.0       2.0           Joy   \n1132    0.0      0.0   0.0  3.0      0.0       2.0           Joy   \n1133    0.0      0.0   0.0  3.0      0.0       2.0           Joy   \n\n                                  emotion context words  \n0                                             top notch  \n1                          they have one of the fastest  \n2                             fresh and hotready to eat  \n3                                           OUTSTANDING  \n4     Certainly not the bestit is always freshvery c...  \n...                                                 ...  \n1129                                    taste excellent  \n1130                                    taste excellent  \n1131                                    taste excellent  \n1132                                    taste excellent  \n1133                                    taste excellent  \n\n[1134 rows x 13 columns]",
      "text/html": "<div>\n<style scoped>\n    .dataframe tbody tr th:only-of-type {\n        vertical-align: middle;\n    }\n\n    .dataframe tbody tr th {\n        vertical-align: top;\n    }\n\n    .dataframe thead th {\n        text-align: right;\n    }\n</style>\n<table border=\"1\" class=\"dataframe\">\n  <thead>\n    <tr style=\"text-align: right;\">\n      <th></th>\n      <th>Review Sentence</th>\n      <th>Aspect term</th>\n      <th>polarity</th>\n      <th>from</th>\n      <th>to</th>\n      <th>Anger</th>\n      <th>Disgust</th>\n      <th>Fear</th>\n      <th>Joy</th>\n      <th>Sadness</th>\n      <th>Surprise</th>\n      <th>Emotion Class</th>\n      <th>emotion context words</th>\n    </tr>\n  </thead>\n  <tbody>\n    <tr>\n      <th>0</th>\n      <td>The bread is top notch as well.</td>\n      <td>bread</td>\n      <td>positive</td>\n      <td>4</td>\n      <td>9</td>\n      <td>0.0</td>\n      <td>0.0</td>\n      <td>0.0</td>\n      <td>3.0</td>\n      <td>0.0</td>\n      <td>2.0</td>\n      <td>Joy</td>\n      <td>top notch</td>\n    </tr>\n    <tr>\n      <th>1</th>\n      <td>I have to say they have one of the fastest del...</td>\n      <td>delivery times</td>\n      <td>positive</td>\n      <td>43</td>\n      <td>57</td>\n      <td>0.0</td>\n      <td>0.0</td>\n      <td>0.0</td>\n      <td>2.0</td>\n      <td>0.0</td>\n      <td>2.0</td>\n      <td>Joy</td>\n      <td>they have one of the fastest</td>\n    </tr>\n    <tr>\n      <th>2</th>\n      <td>Food is always fresh and hot- ready to eat!</td>\n      <td>Food</td>\n      <td>positive</td>\n      <td>0</td>\n      <td>4</td>\n      <td>0.0</td>\n      <td>0.0</td>\n      <td>0.0</td>\n      <td>3.0</td>\n      <td>0.0</td>\n      <td>3.0</td>\n      <td>Joy</td>\n      <td>fresh and hotready to eat</td>\n    </tr>\n    <tr>\n      <th>3</th>\n      <td>Did I mention that the coffee is OUTSTANDING?</td>\n      <td>coffee</td>\n      <td>positive</td>\n      <td>23</td>\n      <td>29</td>\n      <td>0.0</td>\n      <td>0.0</td>\n      <td>0.0</td>\n      <td>2.0</td>\n      <td>0.0</td>\n      <td>3.0</td>\n      <td>Surprise</td>\n      <td>OUTSTANDING</td>\n    </tr>\n    <tr>\n      <th>4</th>\n      <td>Certainly not the best sushi in New York, howe...</td>\n      <td>sushi</td>\n      <td>conflict</td>\n      <td>23</td>\n      <td>28</td>\n      <td>2.0</td>\n      <td>3.0</td>\n      <td>0.0</td>\n      <td>0.0</td>\n      <td>3.0</td>\n      <td>0.0</td>\n      <td>Disgust</td>\n      <td>Certainly not the bestit is always freshvery c...</td>\n    </tr>\n    <tr>\n      <th>...</th>\n      <td>...</td>\n      <td>...</td>\n      <td>...</td>\n      <td>...</td>\n      <td>...</td>\n      <td>...</td>\n      <td>...</td>\n      <td>...</td>\n      <td>...</td>\n      <td>...</td>\n      <td>...</td>\n      <td>...</td>\n      <td>...</td>\n    </tr>\n    <tr>\n      <th>1129</th>\n      <td>Creamy appetizers--taramasalata, eggplant sala...</td>\n      <td>Creamy appetizers</td>\n      <td>positive</td>\n      <td>0</td>\n      <td>17</td>\n      <td>0.0</td>\n      <td>0.0</td>\n      <td>0.0</td>\n      <td>3.0</td>\n      <td>0.0</td>\n      <td>2.0</td>\n      <td>Joy</td>\n      <td>taste excellent</td>\n    </tr>\n    <tr>\n      <th>1130</th>\n      <td>Creamy appetizers--taramasalata, eggplant sala...</td>\n      <td>warm pitas</td>\n      <td>neutral</td>\n      <td>125</td>\n      <td>135</td>\n      <td>0.0</td>\n      <td>0.0</td>\n      <td>0.0</td>\n      <td>3.0</td>\n      <td>0.0</td>\n      <td>2.0</td>\n      <td>Joy</td>\n      <td>taste excellent</td>\n    </tr>\n    <tr>\n      <th>1131</th>\n      <td>Creamy appetizers--taramasalata, eggplant sala...</td>\n      <td>taramasalata</td>\n      <td>positive</td>\n      <td>19</td>\n      <td>31</td>\n      <td>0.0</td>\n      <td>0.0</td>\n      <td>0.0</td>\n      <td>3.0</td>\n      <td>0.0</td>\n      <td>2.0</td>\n      <td>Joy</td>\n      <td>taste excellent</td>\n    </tr>\n    <tr>\n      <th>1132</th>\n      <td>Creamy appetizers--taramasalata, eggplant sala...</td>\n      <td>eggplant salad</td>\n      <td>positive</td>\n      <td>33</td>\n      <td>47</td>\n      <td>0.0</td>\n      <td>0.0</td>\n      <td>0.0</td>\n      <td>3.0</td>\n      <td>0.0</td>\n      <td>2.0</td>\n      <td>Joy</td>\n      <td>taste excellent</td>\n    </tr>\n    <tr>\n      <th>1133</th>\n      <td>Creamy appetizers--taramasalata, eggplant sala...</td>\n      <td>Greek yogurt (with cuccumber, dill, and garlic)</td>\n      <td>positive</td>\n      <td>53</td>\n      <td>100</td>\n      <td>0.0</td>\n      <td>0.0</td>\n      <td>0.0</td>\n      <td>3.0</td>\n      <td>0.0</td>\n      <td>2.0</td>\n      <td>Joy</td>\n      <td>taste excellent</td>\n    </tr>\n  </tbody>\n</table>\n<p>1134 rows × 13 columns</p>\n</div>"
     },
     "execution_count": 84,
     "metadata": {},
     "output_type": "execute_result"
    }
   ],
   "source": [
    "test_data"
   ],
   "metadata": {
    "collapsed": false,
    "ExecuteTime": {
     "end_time": "2024-06-25T14:39:14.998247Z",
     "start_time": "2024-06-25T14:39:14.964219Z"
    }
   },
   "id": "6073e44ae72c8f0e",
   "execution_count": 84
  },
  {
   "cell_type": "code",
   "outputs": [],
   "source": [
    "train_data = train_data[train_data['polarity'] != 'conflict']\n",
    "test_data = test_data[test_data['polarity'] != 'conflict']\n"
   ],
   "metadata": {
    "collapsed": false,
    "ExecuteTime": {
     "end_time": "2024-06-25T19:49:46.656842Z",
     "start_time": "2024-06-25T19:49:46.641068Z"
    }
   },
   "id": "22aa892d96cb4928",
   "execution_count": 3
  },
  {
   "cell_type": "code",
   "outputs": [
    {
     "data": {
      "text/plain": "polarity\npositive    2163\nnegative     807\nneutral      637\nName: count, dtype: int64"
     },
     "execution_count": 4,
     "metadata": {},
     "output_type": "execute_result"
    }
   ],
   "source": [
    "train_data['polarity'].value_counts()"
   ],
   "metadata": {
    "collapsed": false,
    "ExecuteTime": {
     "end_time": "2024-06-25T19:49:49.331799Z",
     "start_time": "2024-06-25T19:49:49.310624Z"
    }
   },
   "id": "41084162f109dc26",
   "execution_count": 4
  },
  {
   "cell_type": "code",
   "outputs": [
    {
     "data": {
      "text/plain": "polarity\npositive    728\nneutral     196\nnegative    196\nName: count, dtype: int64"
     },
     "execution_count": 5,
     "metadata": {},
     "output_type": "execute_result"
    }
   ],
   "source": [
    "test_data['polarity'].value_counts()\n"
   ],
   "metadata": {
    "collapsed": false,
    "ExecuteTime": {
     "end_time": "2024-06-25T19:49:53.339261Z",
     "start_time": "2024-06-25T19:49:53.296519Z"
    }
   },
   "id": "f9c117037010ba66",
   "execution_count": 5
  },
  {
   "cell_type": "code",
   "outputs": [
    {
     "data": {
      "text/plain": "                                        Review Sentence  \\\n0                       The bread is top notch as well.   \n1     I have to say they have one of the fastest del...   \n2           Food is always fresh and hot- ready to eat!   \n3         Did I mention that the coffee is OUTSTANDING?   \n5     Certainly not the best sushi in New York, howe...   \n...                                                 ...   \n1129  Creamy appetizers--taramasalata, eggplant sala...   \n1130  Creamy appetizers--taramasalata, eggplant sala...   \n1131  Creamy appetizers--taramasalata, eggplant sala...   \n1132  Creamy appetizers--taramasalata, eggplant sala...   \n1133  Creamy appetizers--taramasalata, eggplant sala...   \n\n                                          Aspect term  polarity  from   to  \\\n0                                               bread  positive     4    9   \n1                                      delivery times  positive    43   57   \n2                                                Food  positive     0    4   \n3                                              coffee  positive    23   29   \n5                                               place  positive    79   84   \n...                                               ...       ...   ...  ...   \n1129                                Creamy appetizers  positive     0   17   \n1130                                       warm pitas   neutral   125  135   \n1131                                     taramasalata  positive    19   31   \n1132                                   eggplant salad  positive    33   47   \n1133  Greek yogurt (with cuccumber, dill, and garlic)  positive    53  100   \n\n      Anger  Disgust  Fear  Joy  Sadness  Surprise Emotion Class  \\\n0       0.0      0.0   0.0  3.0      0.0       2.0           Joy   \n1       0.0      0.0   0.0  2.0      0.0       2.0           Joy   \n2       0.0      0.0   0.0  3.0      0.0       3.0           Joy   \n3       0.0      0.0   0.0  2.0      0.0       3.0      Surprise   \n5       0.0      0.0   0.0  2.0      0.0       2.0           Joy   \n...     ...      ...   ...  ...      ...       ...           ...   \n1129    0.0      0.0   0.0  3.0      0.0       2.0           Joy   \n1130    0.0      0.0   0.0  3.0      0.0       2.0           Joy   \n1131    0.0      0.0   0.0  3.0      0.0       2.0           Joy   \n1132    0.0      0.0   0.0  3.0      0.0       2.0           Joy   \n1133    0.0      0.0   0.0  3.0      0.0       2.0           Joy   \n\n                                  emotion context words  \n0                                             top notch  \n1                          they have one of the fastest  \n2                             fresh and hotready to eat  \n3                                           OUTSTANDING  \n5     Certainly not the bestit is always freshvery c...  \n...                                                 ...  \n1129                                    taste excellent  \n1130                                    taste excellent  \n1131                                    taste excellent  \n1132                                    taste excellent  \n1133                                    taste excellent  \n\n[1120 rows x 13 columns]",
      "text/html": "<div>\n<style scoped>\n    .dataframe tbody tr th:only-of-type {\n        vertical-align: middle;\n    }\n\n    .dataframe tbody tr th {\n        vertical-align: top;\n    }\n\n    .dataframe thead th {\n        text-align: right;\n    }\n</style>\n<table border=\"1\" class=\"dataframe\">\n  <thead>\n    <tr style=\"text-align: right;\">\n      <th></th>\n      <th>Review Sentence</th>\n      <th>Aspect term</th>\n      <th>polarity</th>\n      <th>from</th>\n      <th>to</th>\n      <th>Anger</th>\n      <th>Disgust</th>\n      <th>Fear</th>\n      <th>Joy</th>\n      <th>Sadness</th>\n      <th>Surprise</th>\n      <th>Emotion Class</th>\n      <th>emotion context words</th>\n    </tr>\n  </thead>\n  <tbody>\n    <tr>\n      <th>0</th>\n      <td>The bread is top notch as well.</td>\n      <td>bread</td>\n      <td>positive</td>\n      <td>4</td>\n      <td>9</td>\n      <td>0.0</td>\n      <td>0.0</td>\n      <td>0.0</td>\n      <td>3.0</td>\n      <td>0.0</td>\n      <td>2.0</td>\n      <td>Joy</td>\n      <td>top notch</td>\n    </tr>\n    <tr>\n      <th>1</th>\n      <td>I have to say they have one of the fastest del...</td>\n      <td>delivery times</td>\n      <td>positive</td>\n      <td>43</td>\n      <td>57</td>\n      <td>0.0</td>\n      <td>0.0</td>\n      <td>0.0</td>\n      <td>2.0</td>\n      <td>0.0</td>\n      <td>2.0</td>\n      <td>Joy</td>\n      <td>they have one of the fastest</td>\n    </tr>\n    <tr>\n      <th>2</th>\n      <td>Food is always fresh and hot- ready to eat!</td>\n      <td>Food</td>\n      <td>positive</td>\n      <td>0</td>\n      <td>4</td>\n      <td>0.0</td>\n      <td>0.0</td>\n      <td>0.0</td>\n      <td>3.0</td>\n      <td>0.0</td>\n      <td>3.0</td>\n      <td>Joy</td>\n      <td>fresh and hotready to eat</td>\n    </tr>\n    <tr>\n      <th>3</th>\n      <td>Did I mention that the coffee is OUTSTANDING?</td>\n      <td>coffee</td>\n      <td>positive</td>\n      <td>23</td>\n      <td>29</td>\n      <td>0.0</td>\n      <td>0.0</td>\n      <td>0.0</td>\n      <td>2.0</td>\n      <td>0.0</td>\n      <td>3.0</td>\n      <td>Surprise</td>\n      <td>OUTSTANDING</td>\n    </tr>\n    <tr>\n      <th>5</th>\n      <td>Certainly not the best sushi in New York, howe...</td>\n      <td>place</td>\n      <td>positive</td>\n      <td>79</td>\n      <td>84</td>\n      <td>0.0</td>\n      <td>0.0</td>\n      <td>0.0</td>\n      <td>2.0</td>\n      <td>0.0</td>\n      <td>2.0</td>\n      <td>Joy</td>\n      <td>Certainly not the bestit is always freshvery c...</td>\n    </tr>\n    <tr>\n      <th>...</th>\n      <td>...</td>\n      <td>...</td>\n      <td>...</td>\n      <td>...</td>\n      <td>...</td>\n      <td>...</td>\n      <td>...</td>\n      <td>...</td>\n      <td>...</td>\n      <td>...</td>\n      <td>...</td>\n      <td>...</td>\n      <td>...</td>\n    </tr>\n    <tr>\n      <th>1129</th>\n      <td>Creamy appetizers--taramasalata, eggplant sala...</td>\n      <td>Creamy appetizers</td>\n      <td>positive</td>\n      <td>0</td>\n      <td>17</td>\n      <td>0.0</td>\n      <td>0.0</td>\n      <td>0.0</td>\n      <td>3.0</td>\n      <td>0.0</td>\n      <td>2.0</td>\n      <td>Joy</td>\n      <td>taste excellent</td>\n    </tr>\n    <tr>\n      <th>1130</th>\n      <td>Creamy appetizers--taramasalata, eggplant sala...</td>\n      <td>warm pitas</td>\n      <td>neutral</td>\n      <td>125</td>\n      <td>135</td>\n      <td>0.0</td>\n      <td>0.0</td>\n      <td>0.0</td>\n      <td>3.0</td>\n      <td>0.0</td>\n      <td>2.0</td>\n      <td>Joy</td>\n      <td>taste excellent</td>\n    </tr>\n    <tr>\n      <th>1131</th>\n      <td>Creamy appetizers--taramasalata, eggplant sala...</td>\n      <td>taramasalata</td>\n      <td>positive</td>\n      <td>19</td>\n      <td>31</td>\n      <td>0.0</td>\n      <td>0.0</td>\n      <td>0.0</td>\n      <td>3.0</td>\n      <td>0.0</td>\n      <td>2.0</td>\n      <td>Joy</td>\n      <td>taste excellent</td>\n    </tr>\n    <tr>\n      <th>1132</th>\n      <td>Creamy appetizers--taramasalata, eggplant sala...</td>\n      <td>eggplant salad</td>\n      <td>positive</td>\n      <td>33</td>\n      <td>47</td>\n      <td>0.0</td>\n      <td>0.0</td>\n      <td>0.0</td>\n      <td>3.0</td>\n      <td>0.0</td>\n      <td>2.0</td>\n      <td>Joy</td>\n      <td>taste excellent</td>\n    </tr>\n    <tr>\n      <th>1133</th>\n      <td>Creamy appetizers--taramasalata, eggplant sala...</td>\n      <td>Greek yogurt (with cuccumber, dill, and garlic)</td>\n      <td>positive</td>\n      <td>53</td>\n      <td>100</td>\n      <td>0.0</td>\n      <td>0.0</td>\n      <td>0.0</td>\n      <td>3.0</td>\n      <td>0.0</td>\n      <td>2.0</td>\n      <td>Joy</td>\n      <td>taste excellent</td>\n    </tr>\n  </tbody>\n</table>\n<p>1120 rows × 13 columns</p>\n</div>"
     },
     "execution_count": 88,
     "metadata": {},
     "output_type": "execute_result"
    }
   ],
   "source": [
    "test_data"
   ],
   "metadata": {
    "collapsed": false,
    "ExecuteTime": {
     "end_time": "2024-06-25T14:39:16.112775Z",
     "start_time": "2024-06-25T14:39:16.073649Z"
    }
   },
   "id": "f14bd6804730f7b2",
   "execution_count": 88
  },
  {
   "cell_type": "code",
   "outputs": [],
   "source": [
    "def merge_emotions(emotion):\n",
    "    if emotion in ['Anger', 'Disgust', 'Fear', 'Sadness']:\n",
    "        return 'Anger'\n",
    "    elif emotion == 'Joy':\n",
    "        return 'Joy'\n",
    "    else:  # 'Surprise'\n",
    "        return 'Surprise'\n",
    "\n",
    "# Apply the function to the 'Emotion Class' column using .loc\n",
    "train_data.loc[:, 'Emotion Class'] = train_data['Emotion Class'].apply(merge_emotions)"
   ],
   "metadata": {
    "collapsed": false,
    "ExecuteTime": {
     "end_time": "2024-06-25T19:50:02.614865Z",
     "start_time": "2024-06-25T19:50:02.586481Z"
    }
   },
   "id": "8211d966ff7952f0",
   "execution_count": 6
  },
  {
   "cell_type": "code",
   "outputs": [],
   "source": [
    "test_data.loc[:, 'Emotion Class'] = test_data['Emotion Class'].apply(merge_emotions)\n"
   ],
   "metadata": {
    "collapsed": false,
    "ExecuteTime": {
     "end_time": "2024-06-25T19:50:03.658352Z",
     "start_time": "2024-06-25T19:50:03.649021Z"
    }
   },
   "id": "6d75cdf41b51ab7b",
   "execution_count": 7
  },
  {
   "cell_type": "code",
   "outputs": [
    {
     "data": {
      "text/plain": "Emotion Class\nJoy         2302\nAnger       1170\nSurprise     135\nName: count, dtype: int64"
     },
     "execution_count": 8,
     "metadata": {},
     "output_type": "execute_result"
    }
   ],
   "source": [
    "train_data['Emotion Class'].value_counts()"
   ],
   "metadata": {
    "collapsed": false,
    "ExecuteTime": {
     "end_time": "2024-06-25T19:50:05.091794Z",
     "start_time": "2024-06-25T19:50:05.076623Z"
    }
   },
   "id": "4ce245cfbc42102d",
   "execution_count": 8
  },
  {
   "cell_type": "code",
   "outputs": [
    {
     "data": {
      "text/plain": "Emotion Class\nJoy         760\nAnger       300\nSurprise     60\nName: count, dtype: int64"
     },
     "execution_count": 9,
     "metadata": {},
     "output_type": "execute_result"
    }
   ],
   "source": [
    "test_data['Emotion Class'].value_counts()"
   ],
   "metadata": {
    "collapsed": false,
    "ExecuteTime": {
     "end_time": "2024-06-25T19:50:06.487804Z",
     "start_time": "2024-06-25T19:50:06.472229Z"
    }
   },
   "id": "fe7c0ae32c174a8f",
   "execution_count": 9
  },
  {
   "cell_type": "code",
   "outputs": [
    {
     "data": {
      "text/plain": "                                        Review Sentence  \\\n0                       The bread is top notch as well.   \n1     I have to say they have one of the fastest del...   \n2           Food is always fresh and hot- ready to eat!   \n3         Did I mention that the coffee is OUTSTANDING?   \n5     Certainly not the best sushi in New York, howe...   \n...                                                 ...   \n1129  Creamy appetizers--taramasalata, eggplant sala...   \n1130  Creamy appetizers--taramasalata, eggplant sala...   \n1131  Creamy appetizers--taramasalata, eggplant sala...   \n1132  Creamy appetizers--taramasalata, eggplant sala...   \n1133  Creamy appetizers--taramasalata, eggplant sala...   \n\n                                          Aspect term  polarity  from   to  \\\n0                                               bread  positive     4    9   \n1                                      delivery times  positive    43   57   \n2                                                Food  positive     0    4   \n3                                              coffee  positive    23   29   \n5                                               place  positive    79   84   \n...                                               ...       ...   ...  ...   \n1129                                Creamy appetizers  positive     0   17   \n1130                                       warm pitas   neutral   125  135   \n1131                                     taramasalata  positive    19   31   \n1132                                   eggplant salad  positive    33   47   \n1133  Greek yogurt (with cuccumber, dill, and garlic)  positive    53  100   \n\n      Anger  Disgust  Fear  Joy  Sadness  Surprise Emotion Class  \\\n0       0.0      0.0   0.0  3.0      0.0       2.0           Joy   \n1       0.0      0.0   0.0  2.0      0.0       2.0           Joy   \n2       0.0      0.0   0.0  3.0      0.0       3.0           Joy   \n3       0.0      0.0   0.0  2.0      0.0       3.0      Surprise   \n5       0.0      0.0   0.0  2.0      0.0       2.0           Joy   \n...     ...      ...   ...  ...      ...       ...           ...   \n1129    0.0      0.0   0.0  3.0      0.0       2.0           Joy   \n1130    0.0      0.0   0.0  3.0      0.0       2.0           Joy   \n1131    0.0      0.0   0.0  3.0      0.0       2.0           Joy   \n1132    0.0      0.0   0.0  3.0      0.0       2.0           Joy   \n1133    0.0      0.0   0.0  3.0      0.0       2.0           Joy   \n\n                                  emotion context words  \n0                                             top notch  \n1                          they have one of the fastest  \n2                             fresh and hotready to eat  \n3                                           OUTSTANDING  \n5     Certainly not the bestit is always freshvery c...  \n...                                                 ...  \n1129                                    taste excellent  \n1130                                    taste excellent  \n1131                                    taste excellent  \n1132                                    taste excellent  \n1133                                    taste excellent  \n\n[1120 rows x 13 columns]",
      "text/html": "<div>\n<style scoped>\n    .dataframe tbody tr th:only-of-type {\n        vertical-align: middle;\n    }\n\n    .dataframe tbody tr th {\n        vertical-align: top;\n    }\n\n    .dataframe thead th {\n        text-align: right;\n    }\n</style>\n<table border=\"1\" class=\"dataframe\">\n  <thead>\n    <tr style=\"text-align: right;\">\n      <th></th>\n      <th>Review Sentence</th>\n      <th>Aspect term</th>\n      <th>polarity</th>\n      <th>from</th>\n      <th>to</th>\n      <th>Anger</th>\n      <th>Disgust</th>\n      <th>Fear</th>\n      <th>Joy</th>\n      <th>Sadness</th>\n      <th>Surprise</th>\n      <th>Emotion Class</th>\n      <th>emotion context words</th>\n    </tr>\n  </thead>\n  <tbody>\n    <tr>\n      <th>0</th>\n      <td>The bread is top notch as well.</td>\n      <td>bread</td>\n      <td>positive</td>\n      <td>4</td>\n      <td>9</td>\n      <td>0.0</td>\n      <td>0.0</td>\n      <td>0.0</td>\n      <td>3.0</td>\n      <td>0.0</td>\n      <td>2.0</td>\n      <td>Joy</td>\n      <td>top notch</td>\n    </tr>\n    <tr>\n      <th>1</th>\n      <td>I have to say they have one of the fastest del...</td>\n      <td>delivery times</td>\n      <td>positive</td>\n      <td>43</td>\n      <td>57</td>\n      <td>0.0</td>\n      <td>0.0</td>\n      <td>0.0</td>\n      <td>2.0</td>\n      <td>0.0</td>\n      <td>2.0</td>\n      <td>Joy</td>\n      <td>they have one of the fastest</td>\n    </tr>\n    <tr>\n      <th>2</th>\n      <td>Food is always fresh and hot- ready to eat!</td>\n      <td>Food</td>\n      <td>positive</td>\n      <td>0</td>\n      <td>4</td>\n      <td>0.0</td>\n      <td>0.0</td>\n      <td>0.0</td>\n      <td>3.0</td>\n      <td>0.0</td>\n      <td>3.0</td>\n      <td>Joy</td>\n      <td>fresh and hotready to eat</td>\n    </tr>\n    <tr>\n      <th>3</th>\n      <td>Did I mention that the coffee is OUTSTANDING?</td>\n      <td>coffee</td>\n      <td>positive</td>\n      <td>23</td>\n      <td>29</td>\n      <td>0.0</td>\n      <td>0.0</td>\n      <td>0.0</td>\n      <td>2.0</td>\n      <td>0.0</td>\n      <td>3.0</td>\n      <td>Surprise</td>\n      <td>OUTSTANDING</td>\n    </tr>\n    <tr>\n      <th>5</th>\n      <td>Certainly not the best sushi in New York, howe...</td>\n      <td>place</td>\n      <td>positive</td>\n      <td>79</td>\n      <td>84</td>\n      <td>0.0</td>\n      <td>0.0</td>\n      <td>0.0</td>\n      <td>2.0</td>\n      <td>0.0</td>\n      <td>2.0</td>\n      <td>Joy</td>\n      <td>Certainly not the bestit is always freshvery c...</td>\n    </tr>\n    <tr>\n      <th>...</th>\n      <td>...</td>\n      <td>...</td>\n      <td>...</td>\n      <td>...</td>\n      <td>...</td>\n      <td>...</td>\n      <td>...</td>\n      <td>...</td>\n      <td>...</td>\n      <td>...</td>\n      <td>...</td>\n      <td>...</td>\n      <td>...</td>\n    </tr>\n    <tr>\n      <th>1129</th>\n      <td>Creamy appetizers--taramasalata, eggplant sala...</td>\n      <td>Creamy appetizers</td>\n      <td>positive</td>\n      <td>0</td>\n      <td>17</td>\n      <td>0.0</td>\n      <td>0.0</td>\n      <td>0.0</td>\n      <td>3.0</td>\n      <td>0.0</td>\n      <td>2.0</td>\n      <td>Joy</td>\n      <td>taste excellent</td>\n    </tr>\n    <tr>\n      <th>1130</th>\n      <td>Creamy appetizers--taramasalata, eggplant sala...</td>\n      <td>warm pitas</td>\n      <td>neutral</td>\n      <td>125</td>\n      <td>135</td>\n      <td>0.0</td>\n      <td>0.0</td>\n      <td>0.0</td>\n      <td>3.0</td>\n      <td>0.0</td>\n      <td>2.0</td>\n      <td>Joy</td>\n      <td>taste excellent</td>\n    </tr>\n    <tr>\n      <th>1131</th>\n      <td>Creamy appetizers--taramasalata, eggplant sala...</td>\n      <td>taramasalata</td>\n      <td>positive</td>\n      <td>19</td>\n      <td>31</td>\n      <td>0.0</td>\n      <td>0.0</td>\n      <td>0.0</td>\n      <td>3.0</td>\n      <td>0.0</td>\n      <td>2.0</td>\n      <td>Joy</td>\n      <td>taste excellent</td>\n    </tr>\n    <tr>\n      <th>1132</th>\n      <td>Creamy appetizers--taramasalata, eggplant sala...</td>\n      <td>eggplant salad</td>\n      <td>positive</td>\n      <td>33</td>\n      <td>47</td>\n      <td>0.0</td>\n      <td>0.0</td>\n      <td>0.0</td>\n      <td>3.0</td>\n      <td>0.0</td>\n      <td>2.0</td>\n      <td>Joy</td>\n      <td>taste excellent</td>\n    </tr>\n    <tr>\n      <th>1133</th>\n      <td>Creamy appetizers--taramasalata, eggplant sala...</td>\n      <td>Greek yogurt (with cuccumber, dill, and garlic)</td>\n      <td>positive</td>\n      <td>53</td>\n      <td>100</td>\n      <td>0.0</td>\n      <td>0.0</td>\n      <td>0.0</td>\n      <td>3.0</td>\n      <td>0.0</td>\n      <td>2.0</td>\n      <td>Joy</td>\n      <td>taste excellent</td>\n    </tr>\n  </tbody>\n</table>\n<p>1120 rows × 13 columns</p>\n</div>"
     },
     "execution_count": 55,
     "metadata": {},
     "output_type": "execute_result"
    }
   ],
   "source": [
    "test_data"
   ],
   "metadata": {
    "collapsed": false,
    "ExecuteTime": {
     "end_time": "2024-06-25T20:29:38.559454Z",
     "start_time": "2024-06-25T20:29:38.501798Z"
    }
   },
   "id": "10cd4553c92ee907",
   "execution_count": 55
  },
  {
   "cell_type": "code",
   "outputs": [],
   "source": [],
   "metadata": {
    "collapsed": false,
    "ExecuteTime": {
     "end_time": "2024-06-25T20:32:16.126706Z",
     "start_time": "2024-06-25T20:32:16.120637Z"
    }
   },
   "id": "302b5d69be7a0a52",
   "execution_count": 57
  },
  {
   "cell_type": "code",
   "outputs": [
    {
     "data": {
      "text/plain": "                                        Review Sentence         Aspect term  \\\n0     But the staff was so horrible to us.The bread ...          staffbread   \n1     To be completely fair, the only redeeming fact...  fooddelivery times   \n2     The food is uniformly exceptional, with a very...            foodFood   \n3     The food is uniformly exceptional, with a very...       kitchencoffee   \n4                                                   NaN                 NaN   \n...                                                 ...                 ...   \n3693                                                NaN                 NaN   \n3694                                                NaN                 NaN   \n3695                                                NaN                 NaN   \n3696                                                NaN                 NaN   \n3697                                                NaN                 NaN   \n\n              polarity   from     to  Anger  Disgust  Fear  Joy  Sadness  \\\n0     negativepositive   12.0   22.0    4.0      1.0   1.0  3.0      3.0   \n1     positivepositive  100.0  118.0    0.0      0.0   0.0  4.0      0.0   \n2     positivepositive    4.0   12.0    0.0      0.0   0.0  7.0      0.0   \n3     positivepositive   78.0   91.0    0.0      0.0   0.0  6.0      0.0   \n4                  NaN    NaN    NaN    NaN      NaN   NaN  NaN      NaN   \n...                ...    ...    ...    ...      ...   ...  ...      ...   \n3693               NaN    NaN    NaN    NaN      NaN   NaN  NaN      NaN   \n3694               NaN    NaN    NaN    NaN      NaN   NaN  NaN      NaN   \n3695               NaN    NaN    NaN    NaN      NaN   NaN  NaN      NaN   \n3696               NaN    NaN    NaN    NaN      NaN   NaN  NaN      NaN   \n3697               NaN    NaN    NaN    NaN      NaN   NaN  NaN      NaN   \n\n      Surprise Emotion Class  \\\n0          3.0      AngerJoy   \n1          2.0        JoyJoy   \n2          3.0        JoyJoy   \n3          3.0   JoySurprise   \n4          NaN           NaN   \n...        ...           ...   \n3693       NaN           NaN   \n3694       NaN           NaN   \n3695       NaN           NaN   \n3696       NaN           NaN   \n3697       NaN           NaN   \n\n                                  emotion context words  \n0                                     horribletop notch  \n1     which was above averagethey have one of the fa...  \n2      uniformly exceptional, very capable proudlyfr...  \n3     uniformly exceptional very capableproudlyOUTST...  \n4                                                   NaN  \n...                                                 ...  \n3693                                                NaN  \n3694                                                NaN  \n3695                                                NaN  \n3696                                                NaN  \n3697                                                NaN  \n\n[3633 rows x 13 columns]",
      "text/html": "<div>\n<style scoped>\n    .dataframe tbody tr th:only-of-type {\n        vertical-align: middle;\n    }\n\n    .dataframe tbody tr th {\n        vertical-align: top;\n    }\n\n    .dataframe thead th {\n        text-align: right;\n    }\n</style>\n<table border=\"1\" class=\"dataframe\">\n  <thead>\n    <tr style=\"text-align: right;\">\n      <th></th>\n      <th>Review Sentence</th>\n      <th>Aspect term</th>\n      <th>polarity</th>\n      <th>from</th>\n      <th>to</th>\n      <th>Anger</th>\n      <th>Disgust</th>\n      <th>Fear</th>\n      <th>Joy</th>\n      <th>Sadness</th>\n      <th>Surprise</th>\n      <th>Emotion Class</th>\n      <th>emotion context words</th>\n    </tr>\n  </thead>\n  <tbody>\n    <tr>\n      <th>0</th>\n      <td>But the staff was so horrible to us.The bread ...</td>\n      <td>staffbread</td>\n      <td>negativepositive</td>\n      <td>12.0</td>\n      <td>22.0</td>\n      <td>4.0</td>\n      <td>1.0</td>\n      <td>1.0</td>\n      <td>3.0</td>\n      <td>3.0</td>\n      <td>3.0</td>\n      <td>AngerJoy</td>\n      <td>horribletop notch</td>\n    </tr>\n    <tr>\n      <th>1</th>\n      <td>To be completely fair, the only redeeming fact...</td>\n      <td>fooddelivery times</td>\n      <td>positivepositive</td>\n      <td>100.0</td>\n      <td>118.0</td>\n      <td>0.0</td>\n      <td>0.0</td>\n      <td>0.0</td>\n      <td>4.0</td>\n      <td>0.0</td>\n      <td>2.0</td>\n      <td>JoyJoy</td>\n      <td>which was above averagethey have one of the fa...</td>\n    </tr>\n    <tr>\n      <th>2</th>\n      <td>The food is uniformly exceptional, with a very...</td>\n      <td>foodFood</td>\n      <td>positivepositive</td>\n      <td>4.0</td>\n      <td>12.0</td>\n      <td>0.0</td>\n      <td>0.0</td>\n      <td>0.0</td>\n      <td>7.0</td>\n      <td>0.0</td>\n      <td>3.0</td>\n      <td>JoyJoy</td>\n      <td>uniformly exceptional, very capable proudlyfr...</td>\n    </tr>\n    <tr>\n      <th>3</th>\n      <td>The food is uniformly exceptional, with a very...</td>\n      <td>kitchencoffee</td>\n      <td>positivepositive</td>\n      <td>78.0</td>\n      <td>91.0</td>\n      <td>0.0</td>\n      <td>0.0</td>\n      <td>0.0</td>\n      <td>6.0</td>\n      <td>0.0</td>\n      <td>3.0</td>\n      <td>JoySurprise</td>\n      <td>uniformly exceptional very capableproudlyOUTST...</td>\n    </tr>\n    <tr>\n      <th>4</th>\n      <td>NaN</td>\n      <td>NaN</td>\n      <td>NaN</td>\n      <td>NaN</td>\n      <td>NaN</td>\n      <td>NaN</td>\n      <td>NaN</td>\n      <td>NaN</td>\n      <td>NaN</td>\n      <td>NaN</td>\n      <td>NaN</td>\n      <td>NaN</td>\n      <td>NaN</td>\n    </tr>\n    <tr>\n      <th>...</th>\n      <td>...</td>\n      <td>...</td>\n      <td>...</td>\n      <td>...</td>\n      <td>...</td>\n      <td>...</td>\n      <td>...</td>\n      <td>...</td>\n      <td>...</td>\n      <td>...</td>\n      <td>...</td>\n      <td>...</td>\n      <td>...</td>\n    </tr>\n    <tr>\n      <th>3693</th>\n      <td>NaN</td>\n      <td>NaN</td>\n      <td>NaN</td>\n      <td>NaN</td>\n      <td>NaN</td>\n      <td>NaN</td>\n      <td>NaN</td>\n      <td>NaN</td>\n      <td>NaN</td>\n      <td>NaN</td>\n      <td>NaN</td>\n      <td>NaN</td>\n      <td>NaN</td>\n    </tr>\n    <tr>\n      <th>3694</th>\n      <td>NaN</td>\n      <td>NaN</td>\n      <td>NaN</td>\n      <td>NaN</td>\n      <td>NaN</td>\n      <td>NaN</td>\n      <td>NaN</td>\n      <td>NaN</td>\n      <td>NaN</td>\n      <td>NaN</td>\n      <td>NaN</td>\n      <td>NaN</td>\n      <td>NaN</td>\n    </tr>\n    <tr>\n      <th>3695</th>\n      <td>NaN</td>\n      <td>NaN</td>\n      <td>NaN</td>\n      <td>NaN</td>\n      <td>NaN</td>\n      <td>NaN</td>\n      <td>NaN</td>\n      <td>NaN</td>\n      <td>NaN</td>\n      <td>NaN</td>\n      <td>NaN</td>\n      <td>NaN</td>\n      <td>NaN</td>\n    </tr>\n    <tr>\n      <th>3696</th>\n      <td>NaN</td>\n      <td>NaN</td>\n      <td>NaN</td>\n      <td>NaN</td>\n      <td>NaN</td>\n      <td>NaN</td>\n      <td>NaN</td>\n      <td>NaN</td>\n      <td>NaN</td>\n      <td>NaN</td>\n      <td>NaN</td>\n      <td>NaN</td>\n      <td>NaN</td>\n    </tr>\n    <tr>\n      <th>3697</th>\n      <td>NaN</td>\n      <td>NaN</td>\n      <td>NaN</td>\n      <td>NaN</td>\n      <td>NaN</td>\n      <td>NaN</td>\n      <td>NaN</td>\n      <td>NaN</td>\n      <td>NaN</td>\n      <td>NaN</td>\n      <td>NaN</td>\n      <td>NaN</td>\n      <td>NaN</td>\n    </tr>\n  </tbody>\n</table>\n<p>3633 rows × 13 columns</p>\n</div>"
     },
     "execution_count": 57,
     "metadata": {},
     "output_type": "execute_result"
    }
   ],
   "source": [
    "all_data"
   ],
   "metadata": {
    "collapsed": false,
    "ExecuteTime": {
     "end_time": "2024-06-25T20:29:51.324344Z",
     "start_time": "2024-06-25T20:29:51.276903Z"
    }
   },
   "id": "d3738ddf350ec3f4",
   "execution_count": 57
  },
  {
   "cell_type": "code",
   "outputs": [],
   "source": [
    "\n",
    "def get_all_aspects(data):\n",
    "    aspect_dict = {}\n",
    "    for _, row in data.iterrows():\n",
    "        sentence = row['Review Sentence']\n",
    "        aspect = row['Aspect term']\n",
    "        if sentence not in aspect_dict:\n",
    "            aspect_dict[sentence] = []\n",
    "        aspect_dict[sentence].append(aspect)\n",
    "    return aspect_dict\n"
   ],
   "metadata": {
    "collapsed": false,
    "ExecuteTime": {
     "end_time": "2024-06-25T19:50:20.596740Z",
     "start_time": "2024-06-25T19:50:20.583913Z"
    }
   },
   "id": "ec1ddb894c2084ab",
   "execution_count": 10
  },
  {
   "cell_type": "code",
   "outputs": [],
   "source": [
    "import re\n",
    "import string\n",
    "from nltk.tokenize import word_tokenize\n",
    "from nltk.corpus import stopwords\n",
    "\n",
    "\n",
    "\n",
    "# stop_words = set(stopwords.words('english'))\n",
    "excluded_words = set(stopwords.words('english') + list(string.punctuation) + list(string.digits))\n",
    "\n",
    "\n",
    "# new implementation\n",
    "def nltk_format_data(row, all_aspects):\n",
    "    # Replace NaN values with empty strings\n",
    "    row = row.fillna('')\n",
    "    sentence = re.sub(r'\\(\\d+\\)', '', row['Review Sentence'])\n",
    "\n",
    "    \n",
    "    # Replace brackets\n",
    "    sentence = sentence.replace('(', '-LRB-\\n')\n",
    "    sentence = sentence.replace(')', '\\n-RRB-')\n",
    "\n",
    "    # Tokenize the sentence while correctly handling punctuation\n",
    "    # Replace brackets with special tokens\n",
    "    # row['Review Sentence'] = row['Review Sentence'].replace('(', '-LRB-')\n",
    "    # row['Review Sentence'] = row['Review Sentence'].replace(')', '-RRB-')\n",
    "\n",
    "\n",
    "    tokens = word_tokenize(sentence)\n",
    "    current_aspect = row['Aspect term']\n",
    "    polarity_code = {'positive': 2, 'neutral': 0, 'negative': 1}[row['polarity']]\n",
    "\n",
    "    # Map emotion classes to numerical codes\n",
    "    # emotion_code = {'Anger': 0, 'Disgust': 1, 'Fear': 2, 'Joy': 3, 'Sadness': 4, 'Surprise': 5}\n",
    "    emotion_code = {'Anger': 0, 'Joy': 1, 'Surprise': 2}\n",
    "    \n",
    "    # Get all aspects for the current sentence\n",
    "    all_aspects_in_sentence = all_aspects[row['Review Sentence']]\n",
    "    \n",
    "    # # Normalize the tokens to ensure consistent matching with aspect terms\n",
    "    # normalized_tokens = [token.rstrip('.,?!:;') for token in tokens]\n",
    "    # Normalize the tokens to ensure consistent matching with aspect terms\n",
    "   # Normalize the tokens to ensure consistent matching with aspect terms\n",
    "    normalized_tokens = []\n",
    "    for token in tokens:\n",
    "        # Strip common punctuation from the right side of tokens\n",
    "        cleaned_token = token.rstrip('.,?!:;')\n",
    "        # Handle hyphens by splitting and keeping only the first part\n",
    "        cleaned_token = cleaned_token.split('-')[0]\n",
    "        normalized_tokens.append(cleaned_token)\n",
    "\n",
    "    # Get the emotion words for the current sentence\n",
    "    emotion_words = word_tokenize(row['emotion context words'])  \n",
    "    emotion_words = [word for word in emotion_words if word not in excluded_words]\n",
    "\n",
    "    formatted_sentence = []\n",
    "    i = 0\n",
    "    while i < len(tokens):\n",
    "        normalized_token = normalized_tokens[i]\n",
    "        matched_aspect = None\n",
    "\n",
    "        # Check if the token is part of any aspect term\n",
    "        for aspect in all_aspects_in_sentence:\n",
    "            aspect_tokens = aspect.split()\n",
    "            aspect_length = len(aspect_tokens)\n",
    "            if normalized_tokens[i:i+aspect_length] == aspect_tokens:\n",
    "                matched_aspect = aspect\n",
    "                break\n",
    "\n",
    "        if matched_aspect:\n",
    "            aspect_tokens = matched_aspect.split()\n",
    "            for j, aspect_token in enumerate(aspect_tokens):\n",
    "                if j == 0:\n",
    "                    formatted_sentence.append(f\"{aspect_token} B-ASP {polarity_code if matched_aspect == current_aspect else '-1'} {emotion_code[row['Emotion Class']] if matched_aspect == current_aspect else '-1'}\")\n",
    "                else:\n",
    "                    formatted_sentence.append(f\"{aspect_token} I-ASP {polarity_code if matched_aspect == current_aspect else '-1'} {emotion_code[row['Emotion Class']] if matched_aspect == current_aspect else '-1'}\")\n",
    "            i += len(aspect_tokens)  # Skip the aspect tokens\n",
    "        else:\n",
    "            # Check if the token is part of the emotion words\n",
    "            if normalized_token in emotion_words:\n",
    "                formatted_sentence.append(f\"{tokens[i]} O -1 {emotion_code[row['Emotion Class']]}\")\n",
    "            else:\n",
    "                formatted_sentence.append(f\"{tokens[i]} O -1 -1\")\n",
    "            i += 1\n",
    "\n",
    "    return '\\n'.join(formatted_sentence)"
   ],
   "metadata": {
    "collapsed": false,
    "ExecuteTime": {
     "end_time": "2024-06-25T20:22:48.149548Z",
     "start_time": "2024-06-25T20:22:48.113648Z"
    }
   },
   "id": "e140f7764ff7ad9",
   "execution_count": 48
  },
  {
   "cell_type": "code",
   "outputs": [],
   "source": [],
   "metadata": {
    "collapsed": false,
    "ExecuteTime": {
     "end_time": "2024-06-25T20:19:38.607428Z",
     "start_time": "2024-06-25T20:19:38.602306Z"
    }
   },
   "id": "36ba663ed23ae50c",
   "execution_count": 44
  },
  {
   "cell_type": "code",
   "outputs": [],
   "source": [
    "# Get all aspects for each sentence\n",
    "all_train_aspects = get_all_aspects(train_data)\n",
    "all_test_aspects = get_all_aspects(test_data)\n",
    "\n",
    "\n",
    "# Apply NLTK formatting to the DataFrame and display the results\n",
    "formatted_train_data = train_data.apply(nltk_format_data, axis=1, all_aspects=all_train_aspects)\n",
    "formatted_test_data = test_data.apply(nltk_format_data, axis=1, all_aspects=all_test_aspects)\n"
   ],
   "metadata": {
    "collapsed": false,
    "ExecuteTime": {
     "end_time": "2024-06-25T20:23:00.205232Z",
     "start_time": "2024-06-25T20:22:51.314578Z"
    }
   },
   "id": "27988e8a7943500b",
   "execution_count": 49
  },
  {
   "cell_type": "code",
   "outputs": [
    {
     "data": {
      "text/plain": "{'The bread is top notch as well.': ['bread'],\n 'I have to say they have one of the fastest delivery times in the city.': ['delivery times'],\n 'Food is always fresh and hot- ready to eat!': ['Food'],\n 'Did I mention that the coffee is OUTSTANDING?': ['coffee'],\n 'Certainly not the best sushi in New York, however, it is always fresh, and the place is very clean, sterile.': ['place'],\n 'I trust the people at Go Sushi, it never disappoints.': ['people'],\n 'Straight-forward, no surprises, very decent Japanese food.': ['Japanese food'],\n 'BEST spicy tuna roll, great asian salad.': ['asian salad',\n  'spicy tuna roll'],\n 'Try the rose roll (not on menu).': ['rose roll', 'menu'],\n 'I love the drinks, esp lychee martini, and the food is also VERY good.': ['drinks',\n  'lychee martini',\n  'food'],\n 'In fact, this was not a Nicoise salad and was barely eatable.': ['Nicoise salad'],\n \"While there's a decent menu, it shouldn't take ten minutes to get your drinks and 45 for a dessert pizza.\": ['menu',\n  'drinks',\n  'dessert pizza'],\n 'Once we sailed, the top-notch food and live entertainment sold us on a unforgettable evening.': ['food',\n  'live entertainment'],\n 'Our waiter was horrible; so rude and disinterested.': ['waiter'],\n \"The sangria's - watered down.\": ['sangria'],\n 'menu - uneventful, small.': ['menu'],\n 'Anytime and everytime I find myself in the neighborhood I will go to Sushi Rose for fresh sushi and great portions all at a reasonable price.': ['sushi',\n  'portions',\n  'price'],\n 'Great food but the service was dreadful!': ['food', 'service'],\n 'The portions of the food that came out were mediocre.': ['portions of the food'],\n \"the two waitress's looked like they had been sucking on lemons.\": [\"waitress's\"],\n 'From the beginning, we were met by friendly staff memebers, and the convienent parking at Chelsea Piers made it easy for us to get to the boat.': ['staff memebers',\n  'parking'],\n 'We enjoyed ourselves thoroughly and will be going back for the desserts ....': ['desserts'],\n 'Desserts are almost incredible: my personal favorite is their Tart of the Day.': ['Desserts',\n  'Tart of the Day'],\n 'The food was extremely tasty, creatively presented and the wine excellent.': ['food',\n  'wine'],\n 'THE LASAGNA WAS PROBABLY THE BEST I HAVE TASTED.': ['LASAGNA'],\n 'Harumi Sushi has the freshest and most delicious array of sushi in NYC.': ['array of sushi'],\n 'I highly recommend it for not just its superb cuisine, but also for its friendly owners and staff.': ['cuisine',\n  'owners',\n  'staff'],\n \"If you're craving some serious indian food and desire a cozy ambiance, this is quite and exquisite choice.\": ['indian food',\n  'ambiance'],\n 'I definitely enjoyed the food as well.': ['food'],\n 'It was pleasantly uncrowded, the service was delightful, the garden adorable, the food (from appetizers to entrees) was delectable.': ['service',\n  'garden',\n  'food',\n  'appetizers',\n  'entrees'],\n 'The food is surprisingly good, and the decor is nice.': ['food', 'decor'],\n 'How pretentious and inappropriate for MJ Grill to claim that it provides power lunch and dinners!': ['lunch',\n  'dinners'],\n 'Two wasted steaks -- what a crime!': ['steaks'],\n 'The staff should be a bit more friendly.': ['staff'],\n 'I think the meatball parm is good.': ['meatball parm'],\n \"If you want good tasting, well seasoned latin food eat at Cabana and you can't go wrong.\": ['latin food'],\n 'Definitely try the taglierini with truffles - it was incredible.': ['taglierini with truffles'],\n 'Also, the staff is very attentive and really personable.': ['staff'],\n 'The gnocchi literally melts in your mouth!': ['gnocchi'],\n 'Had a great experience at Trio ... staff was pleasant; food was tasty and large in portion size - I would highly recommend the portobello/gorgonzola/sausage appetizer and the lobster risotto.': ['staff',\n  'food',\n  'portion size',\n  'portobello/gorgonzola/sausage appetizer',\n  'lobster risotto'],\n 'Entrees include classics like lasagna, fettuccine Alfredo and chicken parmigiana.': ['Entrees',\n  'lasagna',\n  'fettuccine Alfredo',\n  'chicken parmigiana'],\n 'The food is good, the teriyaki I recommend.': ['food', 'teriyaki'],\n 'Meal was very expensive for what you get.': ['Meal'],\n 'Try the Peanut Butter Sorbet and the pizza with soy cheese!': ['Peanut Butter Sorbet',\n  'pizza with soy cheese'],\n 'Good food at the right price, what more can you ask for.': ['food', 'price'],\n 'The food is top notch, the service is attentive, and the atmosphere is great.': ['food',\n  'service',\n  'atmosphere'],\n 'Great food, great waitstaff, great atmosphere, and best of all GREAT beer!': ['food',\n  'waitstaff',\n  'atmosphere',\n  'beer'],\n 'this is still one of my most favorite restaurants in the area the food is inexpensive but very good (kimono shrimp special was excellent) and has a great atmosphere.': ['food',\n  'kimono shrimp special',\n  'atmosphere'],\n 'The menu is interesting and quite reasonably priced.': ['menu', 'priced'],\n 'The food was delicious and clearly fresh ingredients were used.': ['food',\n  'ingredients'],\n \"This made it obvious that the food wasn't cooked fresh; it was obviously made before hand and then reheated.\": ['food'],\n 'Appetizer are excellent here; you can make a great (and inexpensive) meal out of them.': ['Appetizer',\n  'meal'],\n 'The spicy mussels are a highlight.': ['spicy mussels'],\n \"Also get the Onion Rings -- best we've ever had.\": ['Onion Rings'],\n 'However, being foodies, we were utterly disappointed with the food.': ['food'],\n 'Huge portions, great and attentive service, and pretty good prices.': ['portions',\n  'service',\n  'prices'],\n 'I was highly disappointed by their service and food.': ['service', 'food'],\n 'I complained to the waiter and then to the manager, but the intensity of rudeness from them just went up.': ['waiter',\n  'manager'],\n 'The food is great and the milkshakes are even better!': ['food',\n  'milkshakes'],\n 'the mushroom barley soup is amazing.': ['mushroom barley soup'],\n \"I'm glad I did as the food was very good and the staff was friendly, courteous and efficient.\": ['food',\n  'staff'],\n 'Their duck here is also absolutely delicious.': ['duck'],\n 'While it was large and a bit noisy, the drinks were fantastic, and the food was superb.': ['drinks',\n  'food'],\n 'One caveat: Some of the curried casseroles can be a trifle harsh.': ['curried casseroles'],\n 'The food was almost always EXCELLENT.': ['food'],\n 'I was pleasently surprised at the taste.': ['taste'],\n \"A nice space, as long as it doesn't get too crowded and a singleminded devotion to its chosen cuisine make Mare a great choice for seafood lovers.\": ['seafood',\n  'cuisine'],\n 'I never had an orange donut before so I gave it a shot.': ['orange donut'],\n 'they really provide a relaxing, laid-back atmosphere.': ['atmosphere'],\n 'This particular location certainly uses substandard meats.': ['meats'],\n 'The Management was less than accomodating.': ['Management'],\n 'The ambience is also more laid-back and relaxed.': ['ambience'],\n 'the teas are great and all the sweets are homemade.': ['teas', 'sweets'],\n 'mojitos and the service are the best part in there': ['mojitos', 'service'],\n 'Sandwiches, burgers and salads, like the lemon-dressed cobb, are classic successes.': ['Sandwiches',\n  'burgers',\n  'salads',\n  'lemon-dressed cobb'],\n 'The design is very intimate and romantic.': ['design'],\n 'The food was wonderful and imaginative.': ['food'],\n 'The staff is very sharp and they look good too.': ['staff'],\n 'The worst though was the taste.': ['taste'],\n 'The fajita we tried was tasteless and burned and the mole sauce was way too sweet.': ['fajita',\n  'mole sauce'],\n \"Stay with the roasted chickens and you'll be fine.\": ['roasted chickens'],\n 'The atmosphere is warm, comfortable, artsy and sexy.': ['atmosphere'],\n 'The food is great (big selection, reasonable prices) and the drinks are really good.': ['food',\n  'selection',\n  'prices',\n  'drinks'],\n 'The steak melted in my mouth.': ['steak'],\n \"The food did take a few extra minutes to come, but the cute waiters' jokes and friendliness made up for it.\": ['waiters',\n  'food'],\n 'Most importantly, it is reasonably priced.': ['priced'],\n \"The selection of food is excellent (I'm not used to having much choice at restaurants), and the atmosphere is great.\": ['selection of food',\n  'atmosphere'],\n 'Only suggestion is that you skip the dessert, it was overpriced and fell short on taste.': ['dessert',\n  'taste'],\n 'Food was decent, but not great.': ['Food'],\n 'i dont know what some people who rave about this hot dog are talking about.': ['hot dog'],\n 'it is a hidden delight complete with a quaint bar and good food.': ['bar',\n  'food'],\n 'The waiters ALWAYS look angry and even ignore their high-tipping regulars.': ['waiters'],\n 'the atmosphere is very nice, and a welcome escape from the rest of the SI mall.': ['atmosphere'],\n \"Yes, they're a bit more expensive then typical, but then again, so is their food.\": ['food'],\n 'I can say that the wraps, burgers and salads were all fresh, tasty and the mango margareta at $9 was WELL WORTH the money.': ['wraps',\n  'burgers',\n  'salads',\n  'mango margareta'],\n 'Anywhere else, the prices would be 3x as high!': ['prices'],\n 'The service we experienced was friendly and good.': ['service'],\n 'Our waiter was friendly and it is a shame that he didnt have a supportive staff to work with.': ['waiter',\n  'staff'],\n 'The folding chair I was seated at was uncomfortable.': ['folding chair'],\n 'Service was among the best I have ever had in NYC.': ['Service'],\n 'The fettucino alfredo was amazing.': ['fettucino alfredo'],\n 'The food was very good and I was pleasantly surprised to see so many vegan options.': ['food',\n  'vegan options'],\n \"I know real Indian food and this wasn't it.\": ['Indian food'],\n 'Be sure to try the Smoked Trout...Lamb Chops, Veal Chops, Rabbit, the potato gratin, on and on and on?': ['Smoked Trout'],\n 'Be sure to try the Smoked Trout...Lamb Chops, Veal Chops, Rabbit, the potato gratin, on and on and on...': ['Lamb Chops',\n  'Veal Chops',\n  'Rabbit',\n  'potato gratin'],\n 'Even when the chef is not in the house, the food and service are right on target.': ['chef',\n  'food',\n  'service'],\n 'Everything from the eggs benedict to the mussels and even the hamburger were done well and very tasty.': ['eggs benedict',\n  'mussels',\n  'hamburger'],\n 'The waiters were very professional, courteous and attentive.': ['waiters'],\n 'The falafal was rather over cooked and dried but the chicken was fine.': ['falafal',\n  'chicken'],\n \"I highly reccomend the grand marnier shrimp, it's insanely good.\": ['grand marnier shrimp'],\n 'We been there and we really enjoy the food, was areally great food, and the service was really good.': ['food',\n  'food',\n  'service'],\n 'Desserts include flan and sopaipillas.': ['Desserts', 'flan', 'sopaipillas'],\n 'I was starving and the small portions were driving me crazy!': ['portions'],\n 'The wait staff was loud and inconsiderate.': ['wait staff'],\n 'However, the food and service and dramatically lacking.': ['food',\n  'service'],\n 'The sushi is cut in blocks bigger than my cell phone.': ['sushi'],\n 'The service is great, my soup always arrives nice and hot.': ['service',\n  'soup'],\n 'It had been awhile and I forgot just how delicious crepes can be.': ['crepes'],\n \"Montparnasse's desserts--especially the silken creme brulee and paper-thin apple tart--are good enough on their own to make the restaurant worth the trip.\": ['desserts',\n  'creme brulee',\n  'apple tart'],\n 'i had a delicious shrimp creole.': ['shrimp creole'],\n 'The chicken dinner was real good.': ['chicken dinner'],\n 'Beware of the chili signed food items not unless you want to call the fire department to douse the flames in your mouth.': ['chili signed food items'],\n 'The decor is designed in a contemporary Japanese style restaurant.': ['decor'],\n 'but the food was delicious.': ['food'],\n 'Try the ribs, sizzling beef and couple it with coconut rice.': ['coconut rice',\n  'ribs',\n  'beef'],\n 'The avocado salad is a personal fave.': ['avocado salad'],\n 'And, the honey BBQ rib tips are yummy!': ['honey BBQ rib tips'],\n 'The BEST Chinese food Uptown!': ['Chinese food'],\n 'Service is known for bending over backwards to make everyone happy.': ['Service'],\n 'The staff is very friendly.': ['staff'],\n 'Waiters are very friendly and the pasta is out of this world.': ['Waiters',\n  'pasta'],\n 'Great wine list and great cocktail menu.': ['wine list', 'cocktail menu'],\n 'The crab cakes are delicious and the BBQ rib was perfect.': ['crab cakes',\n  'BBQ rib'],\n 'The food is wonderful, artfully done and simply delicious.': ['food'],\n 'Tiny restaurant with very fast service.': ['service'],\n \"My husband and I have been there at least 6 times and we've always been given the highest service and often free desserts.\": ['service',\n  'desserts'],\n 'A beautiful atmosphere, perfect for drinks and/or appetizers.': ['atmosphere',\n  'drinks',\n  'appetizers'],\n 'They make the best pizza in New Jersey.': ['pizza'],\n 'What a difference, the service was very comforting and the food was better than average, but what really standed out was such a dynamic and extensive beer list.': ['service',\n  'food',\n  'beer list'],\n 'Frankly, the chinese food here is something I can make better at home.': ['chinese food'],\n 'There was only one waiter for the whole restaurant upstairs.': ['waiter'],\n 'We started with the scallops and asparagus and also had the soft shell crab as well as the cheese plate.': ['scallops',\n  'asparagus',\n  'soft shell crab',\n  'cheese plate'],\n 'Not to be overlooked, the service is excellent.': ['service'],\n 'this without question is one of the worst hotdogs i have ever had.': ['hotdogs'],\n 'The staff is unbelievably friendly, and I dream about their Saag gosht...so good.': ['staff',\n  'Saag gosht'],\n 'I also recommend the garlic knots.': ['garlic knots'],\n 'Best Indian food I have ever eaten.': ['Indian food'],\n 'This place has the best pizza.': ['pizza'],\n 'The music which is sometimes a little too heavy for my taste.': ['music'],\n 'The service is excellent and always informative without an air.': ['service'],\n 'The owner and staff go to great lengths to make you feel comfortable.': ['owner',\n  'staff'],\n 'The sushi is always fresh and yummy and the menu is pretty varied.': ['sushi',\n  'menu'],\n 'The food was great - sushi was good, but the cooked food amazed us.': ['food',\n  'sushi',\n  'cooked food'],\n 'their dinner specials are fantastic.': ['dinner specials'],\n 'Great food, great drinks, nice dining atmosphere.': ['food',\n  'drinks',\n  'dining atmosphere'],\n \"For the price you pay for the food here, you'd expect it to be at least on par with other Japanese restaurants.\": ['price',\n  'food'],\n 'Food portion was SMALL and below average.': ['Food portion'],\n 'Sit back in one of those comfortable chairs.': ['chairs'],\n 'My favs here are the Tacos Pastor and the Tostada de Tinga...': ['Tacos Pastor',\n  'Tostada de Tinga'],\n 'The bartenders and the managers are really nice and the decor is very comfy and laid-back, all the while being trendy.': ['bartenders',\n  'managers',\n  'decor'],\n 'For a savory take on the soup and sandwich meal, try the hot and sour soup.': ['hot and sour soup',\n  'soup and sandwich meal'],\n 'This bar has it all - great drinks, cool atmosphere, excellent service and delicious food.': ['drinks',\n  'atmosphere',\n  'service',\n  'food'],\n 'Also, the chick peas with shrimp (appetizer) is divine.': ['chick peas with shrimp (appetizer)'],\n 'Finally, I got sick of the bad service, obnoxious smirks, and snotty back talk.': ['service'],\n 'We ordered lamb which was perfectly cooked and tasted awesome.': ['lamb'],\n 'i especially like their soft shell crab sandwich with fries.': ['soft shell crab sandwich with fries'],\n \"if you're looking for authentic hong kong-style food, look no further.\": ['hong kong-style food'],\n \"good food good wine that's it.\": ['food', 'wine'],\n 'The staff was extremely friendly and pleasant.': ['staff'],\n 'While their kitchen food is delicious, their Sushi is out of this world.': ['kitchen food',\n  'Sushi'],\n 'everything is scrumptious, from the excellent service by cute waitresses, to the extremely lush atmosphere.': ['service',\n  'waitresses',\n  'atmosphere'],\n \"It's traditional, simple italian food.\": ['italian food'],\n 'The food is all-around good, with the rolls usually excellent and the sushi/sashimi not quite on the same level.': ['food',\n  'rolls',\n  'sushi/sashimi'],\n '(The sashimi is cut a little thinly.': ['sashimi'],\n 'Could have had better for 1/3 the price in Chinatown.': ['price'],\n 'In addition to great hot dogs, DOTP has wonderful breakfast sandwiches that feature, in addition to great things like tator tots and English muffins, a delicious NJ-based pork product know to us Jersey girls and boys as Taylor ham.': ['hot dogs',\n  'breakfast sandwiches',\n  'tator tots',\n  'English muffins',\n  'Taylor ham',\n  'pork product'],\n 'Well, it happened because of a graceless manager and a rude bartender who had us waiting 20 minutes for drinks, and then tells us to chill out.': ['manager',\n  'bartender',\n  'drinks',\n  'waiting'],\n 'Not only is the service great, but forming conversation around a table is so easy beacuse the atmosphere can be both romantic and comfortable.': ['service',\n  'atmosphere'],\n 'When the dish arrived it was blazing with green chillis, definitely not edible by a human.': ['green chillis',\n  'dish'],\n \"The absolute worst service I've ever experienced and the food was below average (when they actually gave people the meals they ordered).\": ['service',\n  'food',\n  'meals'],\n \"It's about $7 for lunch and they have take-out or dine-in.\": ['lunch',\n  'take-out',\n  'dine-in'],\n 'Be sure to accompany your food with one of their fresh juice concoctions.': ['food',\n  'fresh juice concoctions'],\n 'The food is great and the prices are reasonable.': ['food', 'prices'],\n 'The place is clean, and if you like soul food, then this is the place to be!': ['place',\n  'soul food'],\n 'I had roast chicken and a salad.': ['roast chicken', 'salad'],\n 'They have a very good chicken with avocado and good tuna as well.': ['chicken with avocado',\n  'tuna'],\n 'But the meals were terrible.': ['meals'],\n 'My chicken was completely dried out and on the cold side and the sauce was not very flavorful.': ['chicken',\n  'sauce'],\n 'Malted Milk Ball Gelato - have you ever in your life heard of anything so ridiculously wonderful?': ['Malted Milk Ball Gelato'],\n 'Way too much money for such a terrible meal.': ['meal'],\n 'However, the service is absolutely horrible.': ['service'],\n 'A con was the slow bar service.': ['bar service'],\n 'Dessert was also to die for!': ['Dessert'],\n 'BTW, the service is very good.': ['service'],\n \"It's eaten with black vinegar and shredded ginger.\": ['black vinegar',\n  'shredded ginger'],\n 'The unattractive lighting made me want to gag, the food was overpriced, there was the most awful disco pop duo performing-and my escargot looked like it might crawl off the plate.': ['lighting',\n  'food',\n  'disco pop duo',\n  'escargot'],\n 'it is a cozy place to go with a couple of friends.': ['place'],\n 'The service is always great, and the owner walks around to make sure you enjoy.': ['service',\n  'owner'],\n 'because the waiters need SEVERE ATTITUE ADJUSTMENTS.': ['waiters'],\n 'the food is delicious and highly recommended.': ['food'],\n \"When it came time to take the order the waiter gave us a hard time, walked away then came back with a paper and pen for us to write down what we wanted...excuse me but isn't that his job???\": ['waiter'],\n 'Dieters stick to salads or indulge in vegetarian platters.': ['salads',\n  'vegetarian platters'],\n 'So for a filling and healthy meal give it a go.': ['meal'],\n \"Since I cook for a living, I'm very fussy about the food I eat in restaurants.\": ['food'],\n 'The service was outstanding.': ['service'],\n 'My friends and I stop here for pizza before hitting the Kips Bay movie theater.': ['pizza'],\n 'We always enjoy the pizza.': ['pizza'],\n 'The service is pretty good.': ['service'],\n 'Yum, the chicken is great here.': ['chicken'],\n 'The food here was great, a treat from beginning to end.': ['food'],\n 'The host (owner) and servers are personable and caring.': ['host (owner)',\n  'servers'],\n \"It's just everything...the food, the atmosphere...the incrediby kind and gracious hostess.\": ['food',\n  'atmosphere',\n  'hostess'],\n 'The food is very good and the service is great.': ['food', 'service'],\n 'I usually get one the Vietnamese Beef Noodle Soup.': ['Vietnamese Beef Noodle Soup'],\n 'We were wondering why they were there to make our dining experience miserable?': ['dining experience'],\n 'This place has the best Indian food in New York, hands down.': ['Indian food'],\n 'The waiters are very friendly and helpful and if you frequent they will remember you.': ['waiters'],\n 'Intimate but charming interior with extremely friendly and attentive service.': ['interior',\n  'service'],\n 'The food was as creative as the decor and both worked.': ['food', 'decor'],\n 'The menu is great, with a good selection, and everything that I have tried is absolutely delicious.': ['menu',\n  'selection'],\n 'The sauce is zesty and flavorful and the crust is nice and crispy.': ['sauce',\n  'crust'],\n 'This place has the best sushi in the city.': ['sushi'],\n 'They have an excellent selection (the rolls with crab are really great).': ['selection',\n  'rolls with crab'],\n 'Everyone who works there (the host, the bartender, the servers) is so helpful.': ['host',\n  'bartender',\n  'servers'],\n 'And the food is fantastic.': ['food'],\n 'Favourites include: potato spinach gnocchi and the lamb.': ['potato spinach gnocchi',\n  'lamb'],\n 'Unfortunately, we chose this spot for lunch as we had done a lot of walking and ended up at the South St Seaport.': ['lunch'],\n 'But regulars know that the sandwiches are the real star here.': ['sandwiches'],\n 'The skillfully chosen Portuguese cheese cart paired with quality port provides the perfect Iberian ending.': ['port',\n  'Portuguese cheese cart'],\n 'My friend had a burger and I had these wonderful blueberry pancakes.': ['burger',\n  'blueberry pancakes'],\n 'We were so happy with our food and were even more thrilled when we saw the bill.': ['food',\n  'bill'],\n \"All toppings are so fresh you'd think they had their own vegetable garden and the crust is so perfect, that one actually thinks of how it was made.\": ['toppings',\n  'crust'],\n \"We've always gotten amazing service and we love the food.\": ['service',\n  'food'],\n 'The waitstaff is solicitous and friendly and always seems glad to see us, and the food is wonderful, if not stunningly creative.': ['waitstaff',\n  'food'],\n \"I'm in love with the lobster ravioli!\": ['lobster ravioli'],\n 'We came across this restaurant by accident while at a DUMBO art festival and thoroughly enjoyed our meal.': ['meal'],\n 'Service is excellent, no wait, and you get a lot for the price.': ['Service',\n  'price',\n  'wait'],\n \"I thought the food isn't cheap at all compared to Chinatown.\": ['food'],\n 'Coffee is a better deal than overpriced Cosi sandwiches.': ['Coffee',\n  'Cosi sandwiches'],\n \"We didn't know if we should order a drink or leave?\": ['drink'],\n \"It's not the best Japanese restaurant in the East Village, but it's a pretty solid one for its modest prices, and worth repeat visits.\": ['prices'],\n 'The food is so good and so popular that waiting can really be a nightmare.': ['food',\n  'waiting'],\n 'First walking in the place seemed to have great ambience.': ['place',\n  'ambience'],\n 'I went to Kitchenette this weekend for brunch.': ['brunch'],\n 'Even for two very hungry people there is plenty of food left to be taken home (it reheats really well also).': ['food'],\n 'Then they somehow made a dry and burnt crust, around a raw and cold inside.': ['crust'],\n \"It's just good food, nothing more and that's all we want!\": ['food'],\n 'Average cake thats been courted by a LOT of hype.': ['cake'],\n 'My wife and I recently visited the bistro for dinner and had a wonderful experience.': ['dinner'],\n 'THE SERVICE IS PERFECT TOO  NOTHING WRONG IN THIS ITALIAN/FRENCH RESTAURANT': ['SERVICE'],\n 'The $72 Delmonico steak had to be sent back because it was not cooked to order.': ['Delmonico steak'],\n \"Everytime I go there I can't pick anything to eat and not because the menu is filled with great things to eat.\": ['menu'],\n 'Half a chicken with a mountain of rice and beans for $6.25.': ['rice',\n  'beans',\n  'chicken'],\n 'The service is really fast and friendly, and the value is great.': ['service',\n  'value'],\n 'We were very impressed with the food and value.': ['food', 'value'],\n 'You must try the garlic soup!': ['garlic soup'],\n 'Casablanca servces delicious falafel, tabouleh, humus and other Mediterranean delights, which are all very inexpensive.': ['falafel',\n  'tabouleh',\n  'humus',\n  'Mediterranean delights'],\n \"The pizza's are made fresh, crispy, and ready to serve.\": [\"pizza's\"],\n 'Staff is accomodating make sure you are satified.': ['Staff'],\n \"Chef Waldy's always measures up.\": ['Chef'],\n 'Reasonably priced with very fresh sushi.': ['sushi', 'priced'],\n 'Go for the Seafood Paella for two.': ['Seafood Paella for two'],\n 'All of the apetizers are good and the Sangria is very good.': ['apetizers',\n  'Sangria'],\n 'The one positive thing I can say is that the service was prompt, we got seated right away and the server was very friendly.': ['service',\n  'server'],\n 'The staff greeted me warmly at the door and I was seated promptly and the food was excellent.': ['staff',\n  'food'],\n 'Service is usually pretty good.': ['Service'],\n 'Host and Hostess was quite rude.': ['Host', 'Hostess'],\n 'the wait staff is very friendly, if your not rude or picky.......our meal at Leon last weekend was great -.': ['wait staff',\n  'meal'],\n 'I recommend any of their salmon dishes......': ['salmon dishes'],\n 'The foie gras was sweet and luscious.': ['foie gras'],\n 'The menu, which changes seasonally, shows both regional and international influences.': ['menu'],\n 'but their mac cheese was YUMMY!': ['mac cheese'],\n 'their brunch menu had something for everyone.': ['brunch menu'],\n 'jazz singer had a nice voice  she made us all get up to dance to shake some cals to eat some more.': ['jazz singer'],\n \"They have very quick service which is great when you don't have much time.\": ['service'],\n 'The food is average: breakfast food, soups, salads, sandwiches, etc.': ['food',\n  'breakfast food',\n  'soups',\n  'salads',\n  'sandwiches'],\n 'I WAS HIGHLY DISAPPOINTED BY THE FOOD.': ['FOOD'],\n \"THE BANANA PUDDING THEY SERVE HAS NEVER SEEN AN OVEN,THE CRABCAKES ARE WAY OVER SALTED AND DON'T GET ME STARTED ON THE VERY GREASY MAC AND CHEESE.\": ['BANANA PUDDING',\n  'CRABCAKES',\n  'MAC AND CHEESE'],\n 'The staff is arrogant, the prices are way high for Brooklyn.': ['staff',\n  'prices'],\n 'the service is prompt friendly.': ['service'],\n 'This is literally a hot spot when it comes to the food.': ['food'],\n 'The downstairs bar scene is very cool and chill...': ['downstairs bar scene'],\n \"The food was definitely good, but when all was said and done, I just couldn't justify it for the price (including 2 drinks, $100/person)...\": ['food',\n  'price',\n  'drinks'],\n \"I've come here for casual lunches as well as for a friend's birthday and I always enjoy myself.\": ['casual lunches'],\n 'If you are a Tequila fan you will not be disappointed.': ['Tequila'],\n 'Great beer selection too, something like 50 beers.': ['beer selection',\n  'beers'],\n 'Not to sound too negative but be wary of the delivary.': ['delivary'],\n 'I found the food to be just as good as its owner, Da Silvano, just much less expensive.': ['food',\n  'owner'],\n 'They have homemade pastas of all kinds -- I recommend the gnocchi -- yum!': ['homemade pastas',\n  'gnocchi'],\n 'My vegetable risotto was burnt, and infused totally in a burnt flavor.': ['vegetable risotto',\n  'flavor'],\n 'The main draw of this place is the price.': ['price'],\n 'How can hope to stay in business with service like this?': ['service'],\n 'But dinner here is never disappointing, even if the prices are a bit over the top.': ['dinner',\n  'prices'],\n 'Not only did they have amazing, sandwiches, soup, pizza etc, but their homemade sorbets are out of this world!': ['sandwiches',\n  'soup',\n  'pizza',\n  'homemade sorbets'],\n 'the homemade Guacamole, the unbelievable entree, and thee most amazing deserts.': ['homemade Guacamole',\n  'entree',\n  'deserts'],\n 'The sushi is reasonably priced and fresh.': ['sushi', 'priced'],\n \"Save room for deserts - they're to die for.\": ['deserts'],\n 'Best things to order are from the grill (Churrasco and Ribs).': ['grill',\n  'Churrasco',\n  'Ribs'],\n 'The traditional Italian items are great - cheap and served in a cozy setting.': ['traditional Italian items',\n  'setting',\n  'served'],\n 'Whether your choose the iced blended mocha or the hot white mocha you are sure to be extremely happy.': ['iced blended mocha',\n  'hot white mocha'],\n 'last Tuesday for a late lunch with a friend.': ['late lunch'],\n 'Another friend had to ask 3 times for parmesan cheese.': ['parmesan cheese'],\n 'Our waitress had apparently never tried any of the food, and there was no one to recommend any wine.': ['waitress',\n  'food',\n  'wine'],\n 'The service was a bit slow and the portions are a bit small so if you are hungry and in a rush, this is not the place for you.': ['service',\n  'portions'],\n 'The unfortunate lady next to us thought she had ordered a salad (including asking for salad dressing) and was instead given a quesedilla.': ['salad',\n  'salad dressing',\n  'quesedilla'],\n \"El Nidos one of the best restaurants in New York which I've ever been to, has a great variety of tasty, mouth watering pizza's.\": [\"pizza's\"],\n 'The service was pretty poor all around, the food was well below average relative to the cost, and outside there is a crazy bum who harasses every customer who leaves the place.': ['service',\n  'food',\n  'cost'],\n 'Although I moved uptown I try to stop in as often as possible for the GREAT cheap food and to pay the friendly staff a visit.': ['food',\n  'staff'],\n 'I had to wait for my friend at the bar for a few minutes': ['bar'],\n 'Chef Vincenzo, always there if you need him, is a real talent and a real Roman.': ['Chef'],\n \"If you're looking to taste some great Indian food and want good service, definitely visit Curry Leaf.\": ['Indian food',\n  'service'],\n 'You must try Odessa stew or Rabbit stew; salads-all good; and kompot is soo refreshing during the hot summer day (they make it the way my mom does, reminds me of home a lot).': ['Odessa stew',\n  'Rabbit stew',\n  'salads',\n  'kompot'],\n 'My daughter and I left feeling satisfied (not stuffed) and it felt good to know we had a healthy lunch.': ['lunch'],\n 'When she complained, the waitress said, Sorry.': ['waitress'],\n 'The quality of the meat was on par with your local grocery store.': ['quality of the meat'],\n 'They specialize in smoothies and fresh juices.': ['smoothies',\n  'fresh juices'],\n 'I recommend the black roasted codfish, it was the best dish of the evening.': ['black roasted codfish',\n  'dish'],\n 'The manager then told us we could order from whatever menu we wanted but by that time we were so annoyed with the waiter and the resturant that we let and went some place else.': ['waiter',\n  'menu',\n  'manager'],\n 'In mi burrito, here was nothing but dark chicken that had that cooked last week and just warmed up in a microwave taste.': ['taste',\n  'chicken'],\n 'during busy hrs, i recommend that you make a reservation.': ['reservation'],\n 'I went to Common Stock for brunch and I was so impressed.': ['brunch'],\n 'now called nikki sushi, sushi is OK.': ['sushi'],\n 'The food is also outstanding and is served quite quickly.': ['food',\n  'served'],\n 'From the erbazzone emiliana to the mostarda on the cheese plate, the dishes at this restaurant are all handled with delicate care.': ['erbazzone emiliana',\n  'mostarda on the cheese plate',\n  'dishes'],\n 'The food is delicious and the bar has a great vibe.': ['food',\n  'bar',\n  'vibe'],\n \"There's candlelight and music.\": ['candlelight', 'music'],\n 'Simple healthy unglamorous food cheap.': ['food'],\n 'It was such a fantastic dining experience, that I returned again the same week.': ['dining experience'],\n 'To be fair, the food still is good and the service is quick and attentative even though its usually very busy.': ['food',\n  'service'],\n 'The place is absolutely adorable and the food is delicious.': ['place',\n  'food'],\n 'I ordered the Chicken Teriyaki and my husband got Garlic Shrimp.': ['Chicken Teriyaki',\n  'Garlic Shrimp'],\n \"I've had better Japanese food at a mall food court.\": ['Japanese food'],\n 'The staff members are extremely friendly and even replaced my drink once when I dropped it outside.': ['staff members',\n  'drink'],\n 'Cool atmosphere but such a let down.': ['atmosphere'],\n \"The Sashimi portion are big enough to appease most people, but I didn't like the fact they used artifical lobster meat.\": ['Sashimi portion',\n  'artifical lobster meat'],\n 'They have wheat crusted pizza made with really fresh and yummy ingredients.': ['wheat crusted pizza',\n  'ingredients'],\n 'Had a lovely dinner in this dedicated seafood joint, food was well-prepared and -presented and the service was pleasant and prompt.': ['dinner',\n  'food',\n  'service'],\n 'the icing MADE this cake, it was fluffy, not ultra sweet, creamy and light.': ['cake'],\n 'Finally let into the store 5 at a time, to buy expensive slices from a harried staff.': ['staff',\n  'slices'],\n 'We ended up having to just leave because we were essentially being ignored by the wait staff--even though the rest of the restaurant was largely empty.': ['wait staff'],\n 'The wine list is extensive, well priced and covers alot of regions.': ['wine list',\n  'priced'],\n 'Go here if you want fresh and tasty salads of any type you can imagine.': ['salads'],\n 'Everything about this place is adorable - even the bathroom!': ['bathroom'],\n 'Speedy delivers, great food, decent prices, and friendly service combine to ensure an enjoyable repast.': ['delivers',\n  'food',\n  'prices',\n  'service',\n  'repast'],\n 'THEY HAVE WAITERS ON THE SIDEWALK TRYING TO PULL YOU IN WHICH MADE US SUSPICIOUS.': ['WAITERS'],\n 'IT WAS OUR ONLY OPPORTUNITY TO VISIT AND WANTED AN AUTHENTIC ITALIAN MEAL.': ['ITALIAN MEAL'],\n \"It took 100 years for Parisi to get around to making pizza (at least I don't think they ever made it before this year)...but it was worth the wait.\": ['pizza'],\n 'I asked for a simple medium rare steak.': ['steak'],\n 'Generously garnished, organic grilled burgers are the most popular dish, but the Jerusalem market-style falafel wraps and Mediterranean salads--layered with beets, goat cheese and walnuts--are equally scrumptious.': ['organic grilled burgers',\n  'dish',\n  'Jerusalem market-style falafel wraps',\n  'Mediterranean salads--layered with beets, goat cheese and walnuts'],\n \"Probably my worst dining experience in new york, and I'm a former waiter so I know what I'm talking about.\": ['dining experience',\n  'waiter'],\n 'Result (red velvet): Great texture, soft and velvety, nice hint of cocoa.': ['texture',\n  'hint of cocoa'],\n 'Ask for the round corner table next to the large window.': ['round corner table next to the large window'],\n 'Their twist on pizza is heatlhy, but full of flavor.': ['flavor',\n  'twist on pizza'],\n 'The lack of AC and the fact that there are a million swarming bodies (although everyone is polite and no one is pushing) is a slight turn off.': ['AC'],\n 'I love the Little Pie Company as much as anyone else who has written reviews, but must discourage anyone from visiting the Grand Central location due to their RUDE service from two sales people.': ['service',\n  'sales people'],\n \"Unfortunately, unless you live in the neighborhood, it's not in a convenient location but is more like a hidden treasure.\": ['location'],\n \"Didn't seem like any effort was made to the display and quality of the food.\": ['display and quality of the food'],\n 'The food--though mostly deep-fried--is simple and satisfying.': ['food'],\n 'Glechik might be way too tiny for a restaurant by Russian standards, but it is cozy and the food is simply GREAT.': ['food'],\n 'The food was excellent - authentic Italian cuisine made absolutely fresh.': ['food',\n  'Italian cuisine'],\n 'At night the atmoshere changes turning into this hidden jewel that is waiting to be discovered.': ['atmoshere'],\n \"The other times I've gone it's romantic date heaven, you can walk in get a booth by the windows, be treated like a VIP in a not-crowded place, with great food and service.\": ['booth by the windows',\n  'place',\n  'food',\n  'service'],\n 'I would only go for the coffee which is way better than Starbucks or the like.': ['coffee'],\n 'Somewhat disappointing wine list (only new vintages.': ['wine list',\n  'vintages'],\n 'If your looking for nasty high priced food with a dash of ghetto scenery cheap BX A$$ this is the place to be!!': ['priced',\n  'food',\n  'scenery'],\n 'new hamburger with special sauce is ok - at least better than big mac!': ['new hamburger with special sauce',\n  'big mac'],\n 'Perfectly al dente pasta, not drowned in sauce -- generous portions.': ['pasta',\n  'sauce',\n  'portions'],\n 'I can understand the prices if it served better food, like some Chinese restaurants in midtown/uptown area.': ['prices',\n  'food'],\n 'Service was awful - mostly because staff were overwhelmed on a Saturday night.': ['Service',\n  'staff'],\n 'To the owners; good job guys, this place is a keeper!': ['owners'],\n 'and the owner is simply lovely and friendly.': ['owner'],\n 'This little place is wonderfully warm welcoming.': ['place'],\n 'perfect for a quick meal.': ['meal'],\n 'Has the warmth of a family local yet it is a great place to watch sporting events.': ['place'],\n 'The service was great, and they have a whole great deal for birthdays.': ['service'],\n 'The staff is 100% Italian and the food is as authentic as it gets.': ['staff',\n  'food'],\n \"My only complaint might be the fortune cookies - I've never had a cookie predict bad luck for me before I visited Kar.\": ['fortune cookies',\n  'cookie'],\n 'Good for a quick sushi lunch.': ['sushi lunch'],\n 'Have a mojito and sit in the back patio.': ['mojito', 'back patio'],\n 'The service was dreadfully slow (the place was only half full) and a smile would have been nice...': ['service'],\n 'I went this past Saturday and had a excellent meal of consisting of a braised lamb shank with mashed potatoes.': ['meal',\n  'braised lamb shank with mashed potatoes'],\n 'The waitress came by to pick up the soy sauce WHILE we were eating our lunch!!!!!': ['waitress',\n  'soy sauce',\n  'lunch'],\n \"So we sat at the bar, the bartender didn't seem like he wanted to be there.\": ['bar',\n  'bartender'],\n 'I reccomend the fried pork dumplings, the orange chicken/beef, and the fried rice.': ['fried pork dumplings',\n  'orange chicken/beef',\n  'fried rice'],\n 'You will not be dissapointed by any of the choices in the menu.': ['menu'],\n 'The french fries -- with the kalmata dip were terrific!': ['french fries -- with the kalmata dip'],\n 'Would you ever believe that when you complain about over an hour wait, when they tell you it will be 20-30 minutes, the manager tells the bartender to spill the drinks you just paid for?': ['wait',\n  'manager',\n  'bartender',\n  'drinks'],\n 'The boutique selection of wines covers a wide variety without being imposeing.': ['boutique selection of wines'],\n 'They also have a great assortment of wraps if your not in the mood for traditional Mediterranean fare.': ['assortment of wraps',\n  'traditional Mediterranean fare'],\n 'Fresh veggies, all sorts of middle eastern spreads, cheese and falafel, soup, fish, rice, root vegetables, a rice medley, some spinach thing, lamb kebabs, cheese baclava... soooo much fooood, and all of it delicious.': ['Fresh veggies',\n  'middle eastern spreads',\n  'cheese',\n  'falafel',\n  'soup',\n  'fish',\n  'rice',\n  'root vegetables',\n  'rice medley',\n  'spinach thing',\n  'lamb kebabs',\n  'cheese baclava',\n  'fooood'],\n 'Disappointingly, their wonderful Saketini has been taken off the bar menu.': ['Saketini',\n  'bar menu'],\n \"In Short The Black Sheep distinguishes itself from the Midtown pub herd with a look that's a mix of sports-bar butch and ornate kitsch.\": ['look'],\n 'I would definitely go back -- if only for some of those exotic martinis on the blackboard.': ['martinis'],\n 'then she made a fuss about not being able to add 1 or 2 chairs on either end of the table for additional people.': ['chairs',\n  'table'],\n 'The happy hour is so cheap, but that does not reflect the service or the atmosphere.': ['happy hour',\n  'service',\n  'atmosphere'],\n \"After waiting for almost an hour, the waiter brusquely told us he'd forgotten to give the kitchen our order.\": ['waiter',\n  'kitchen',\n  'waiting'],\n 'With all the mundane or mediocre places on 8th avenue it is nice to have one that is a step above in quaility and atmosphere.': ['quaility',\n  'atmosphere'],\n 'A mix of students and area residents crowd into this narrow, barely there space for its quick, tasty treats at dirt-cheap prices.': ['space',\n  'prices',\n  'treats'],\n 'Give it a try, menu is typical French but varied.': ['menu'],\n 'It gets crowded at lunchtime but there are lots of seats in back and everyone who works there is so nice.': ['seats'],\n 'but for the value, it was a great affordable spot to enjoy a fun night out with small group.': ['value'],\n \"the negative reviews on city search are probably from jealous competing restaurants who realize they can't compete with Temple's entire positive attitude about the proper way to treat their customers and deliver top quality food.\": ['food',\n  'attitude'],\n 'We ordered a glass of wine and were finished eating and paying before the wine came.': ['glass of wine'],\n 'It was good, but none of the flavors WOW.': ['flavors'],\n 'Overall, this is a nice place to take a few friends to hang out at and the service is excellent.': ['place',\n  'service'],\n 'Food is excellent quality for a good restaurant price.': ['Food', 'price'],\n 'for about eleven bucks you get a gigantic burrito (or tacos), margarita, and dessert.': ['burrito',\n  'tacos',\n  'margarita',\n  'dessert'],\n 'The space is traditional in feel.': ['space'],\n 'the restaurant was completely empty, but she gave me a dirty look and asked, no reservations?': ['reservations'],\n 'the food was mediocre to be kind - the interior is small and average - the owners are a tag-team of unpleasantries - so rude and snotty i actually let out a hearty guffaw whilst dining.': ['food',\n  'interior',\n  'owners',\n  'dining'],\n 'Good service, great food, good value, and never have to wait in line!': ['service',\n  'food',\n  'value',\n  'wait'],\n 'Offerings like hot cakes and the Egg McMuffin sandwich are available for breakfast.': ['Egg McMuffin sandwich',\n  'hot cakes',\n  'breakfast'],\n 'I have been going to this restaurant for years, in the past the service was average and the food inconsistant.': ['service',\n  'food'],\n 'The music was fascinating, but left room for conversation, and the bartender made superb drinks.': ['music',\n  'bartender',\n  'drinks'],\n \"rice dishes and noodle dishes rarely exceed $5 and add on a refreshing ice drink for $2 and you're set for the night!\": ['rice dishes',\n  'noodle dishes',\n  'ice drink'],\n \"Cuisine is billed as asian fusion - doesn't meet the bill.\": ['Cuisine',\n  'bill',\n  'asian fusion',\n  'billed'],\n 'Creative dishes like king crab salad with passion fruit vinaigrette and fettuccine with grilled seafood in a rosemary-orange sauce are unexpected elements on an otherwise predictable bistro menu.': ['dishes',\n  'king crab salad with passion fruit vinaigrette',\n  'fettuccine with grilled seafood in a rosemary-orange sauce',\n  'bistro menu'],\n 'Dishes denoted as \"Roy\\'s Classics\" (marked on the menu with asterisks) are tried-and-true recipes, such as macadamia-crusted mahi mahi, or subtly sweet honey-mustard beef short ribs.': ['Dishes',\n  '\"Roy\\'s Classics\"',\n  'menu',\n  'recipes',\n  'macadamia-crusted mahi mahi',\n  'sweet honey-mustard beef short ribs'],\n 'The cold sesame noodles, which are a freebie when you order $10, are delectable.': ['cold sesame noodles'],\n \"I came to fresh expecting a great meal, and all I got was marginally so-so food served in a restaurant that was just so freezing we couldn't enjoy eating.\": ['food',\n  'meal',\n  'served'],\n 'The lone argentine chorizo appetizer at $8.95 was a heavy fennel flavored Italian sausage like the ones that sell for $2.99/lb at the store.': ['argentine chorizo appetizer',\n  'fennel flavored Italian sausage'],\n 'I went to Swiftys with some friends of the family and we had a very nice dinner, but nothing amazing.': ['dinner'],\n 'Best Chinese on the Upper East, prompt delivery, good value.': ['delivery',\n  'value'],\n 'Most of the sandwiches are made with soy mayonaise which is actually pretty good.': ['sandwiches',\n  'soy mayonaise'],\n 'i went in one day asking for a table for a group and was greeted by a very rude hostess.': ['hostess',\n  'table'],\n \"It's worthwhile to take a cab to Chelsea just for an awesome dinner at My Chelsea.\": ['dinner'],\n 'Not only is the food authentic, but the staff here are practically off-the-boat, they are young and hip and know what they are doing when it comes to food and wine.': ['food',\n  'staff',\n  'food',\n  'wine'],\n 'It has good music, nice tapas, an interesting selection of wines (primarily Spanish) and a lowkey hip neighborhood clientele.': ['music',\n  'tapas',\n  'selection of wines (primarily Spanish)',\n  'clientele'],\n 'The food is great, I love their dumplings, cold sesame noodles, chicken and shrimp dishs.': ['food',\n  'dumplings',\n  'cold sesame noodles',\n  'chicken',\n  'shrimp dishs'],\n 'And the food, well the food will keep you coming back.': ['food', 'food'],\n 'Waiting three hours before getting our entrees was a treat as well.': ['entrees',\n  'Waiting'],\n \"It's the conversations that make this a fun place to be.\": ['place'],\n \"My gf's duck confitte was very solid as well, although i have little base of reference.\": ['duck confitte'],\n 'The wine list was superb, our tapas delightful, and the quiet atmosphere perfect for good conversation.': ['wine list',\n  'tapas',\n  'atmosphere'],\n 'You can eat gourmet food at a fast food price.': ['price', 'food'],\n \"I've eaten at all three locations and I always love, love the food, the service is always wonderful and the prices are really reasonable.\": ['food',\n  'service',\n  'prices'],\n 'Not because I was pregnant, but the food here is always delicious.': ['food'],\n 'Had a great meal there this weekend before heading to the movies!': ['meal'],\n 'We had a birthday party here recently and the food and service was amazing.': ['food',\n  'service'],\n \"the dinner menu offers a variety of great entrees, including fresh seafood and huge steaks, there's also a couple of non-meat alternatives.\": ['dinner menu',\n  'entrees',\n  'seafood',\n  'steaks',\n  'non-meat alternatives'],\n 'This place has the strangest menu and the restaurants tries too hard to make fancy food.': ['menu',\n  'food'],\n 'The appetizers are ok, but the service is slow.': ['appetizers', 'service'],\n 'the food - not worth the price.': ['food', 'price'],\n 'What can you say about a place where the waitress brings out the wrong entree, then verbally assaults your 80 year old grandmother and gives her lip about sending it back (which she did politely, by the way).': ['waitress',\n  'entree'],\n 'The prices are not terrible.': ['prices'],\n '15% gratuity automatically added to the bill.': ['bill', 'gratuity'],\n \"The halibut cheek appetizer came with a generous portion of foie gras, but that's about the only positive thing I can say about the meal.\": ['halibut cheek appetizer',\n  'portion of foie gras'],\n 'Food is excellent and they also have empenadas and plaintains which are good for an afternoon snack.': ['Food',\n  'empenadas',\n  'plaintains',\n  'afternoon snack'],\n 'Both a number of the appetizer and pasta specials were amazing.': ['pasta specials',\n  'appetizer'],\n \"All-time favorites include the Big Mac, Chicken McNuggets, Filet-O-Fish sandwich and McDonald's famous french fries; lighter options like entree-sized salads are also available.\": ['Big Mac',\n  'Chicken McNuggets',\n  'Filet-O-Fish sandwich',\n  \"McDonald's famous french fries\",\n  'entree-sized salads'],\n \"It's a basic pizza joint, not much to look at, but the pizza is what I go for.\": ['pizza'],\n 'Tables are close, so you better be comfortable bumping elbows with other patrons.': ['Tables'],\n 'Was her Monday for lunch - was working on a film in the area - and found this rare jewel.': ['lunch'],\n \"Not too much so, but enough that there's a great scene.\": ['scene'],\n 'Dug the blue bar area too.': ['blue bar area'],\n 'I got the opportunity to dine at your establishment again a few weeks ago, I was in your upstrairs dining area.': ['upstrairs dining area'],\n 'Meat-phobes are in luck with the extraordinary veggie burger, made from a distinctive blend of chickpeas, carrots and other vegetables and spices.': ['veggie burger',\n  'chickpeas',\n  'carrots',\n  'vegetables',\n  'spices'],\n 'At peak times, the restaurant is overcrowded and tables are uncomfortably close.': ['tables'],\n 'The service was on point - what else you would expect from a Ritz?': ['service'],\n 'Menus feature seasonal picks, like sweet corn-foie gras brulee.': ['Menus',\n  'sweet corn-foie gras brulee'],\n 'Innovations are just as assured, from the simple Carinthia cheese ravioli with wild mushrooms to the caviar-topped sturgeon, beautifully matched with a bright green spinach-vodka sauce.': ['Carinthia cheese ravioli with wild mushrooms',\n  'caviar-topped sturgeon',\n  'green spinach-vodka sauce'],\n 'And these are not small, wimpy fast food type burgers - these are real, full sized patties.': ['burgers',\n  'patties'],\n 'There restaurant is very casual, but perfect for lunch, and their delivery service is always very fast.': ['lunch',\n  'delivery service'],\n 'Chinatown definitely has better quality with cheaper prices.': ['quality',\n  'prices'],\n \"I had to flag down a third staff person for a fork... so now it's goodbye Little RUDE Pie Company.\": ['staff person',\n  'fork'],\n 'Go with the specials, and stay away from the salmon.': ['specials',\n  'salmon'],\n 'The pastas were pretty good.': ['pastas'],\n 'Atmosphere is a bore.': ['Atmosphere'],\n 'The decor is what initially got me in the door.': ['decor'],\n 'The wait staff was very attentive and polite.': ['wait staff'],\n 'Great restaurant, and even greater food!': ['food'],\n 'The dishes are remarkably tasty and such a cozy and intimate place!': ['dishes',\n  'place'],\n 'Save room for the desserts! ;-)': ['desserts'],\n 'I love the simplicity and respect which was given to the food, as well the staff was freindly and knowledgable.': ['food',\n  'staff'],\n 'Service was good and so was the atmosphere.': ['Service', 'atmosphere'],\n 'MY date and I both ordered the Branzini and both felt the fish was very average.': ['Branzini',\n  'fish'],\n 'The food was good, the service prompt, and the price very reasonable.': ['food',\n  'service',\n  'price'],\n 'Wonderful menu, warm inviting ambiance, great service the FOOD keeps me coming back!': ['menu',\n  'ambiance',\n  'service',\n  'FOOD'],\n 'Great food, good wine and an excellent host.': ['food', 'wine', 'host'],\n 'Pizzas were excellent in addition to appetizers and main courses.': ['Pizzas',\n  'appetizers',\n  'main courses'],\n 'Definitely try the calamari, any pasta, or even the Sliced steak entree.': ['calamari',\n  'pasta',\n  'Sliced steak entree'],\n 'The caeser salad was great.': ['caeser salad'],\n 'The fried calamari was even better!': ['fried calamari'],\n 'The food was good overall.': ['food'],\n 'The food was outstanding and the service was tops.': ['food', 'service'],\n 'The portions are very large and the service is fantastic!!': ['portions',\n  'service'],\n 'I recomend the chicken milanese.': ['chicken milanese'],\n 'excellent tapas at great prices, romantic, small but not overly crowed, excellent': ['tapas',\n  'prices'],\n 'The chocolate raspberry cake is heavenly- not too sweet, but full of flavor.': ['chocolate raspberry cake',\n  'flavor'],\n 'Our waiter was helpful and charming, the food was perfect, and the wine was good, too.': ['waiter',\n  'food',\n  'wine'],\n 'I HAVE NEVER HAD A BAD MEAL(OR BAD SERVICE )@ PIGALLE.': ['MEAL', 'SERVICE'],\n 'Best hot dogs in the tri-state area.': ['hot dogs'],\n 'The service was very attentive and very generous.': ['service'],\n 'We had tons of great food, wine, and desserts.': ['food',\n  'wine',\n  'desserts'],\n 'Really Lovely dining experience in the midst of buzzing midtown area.': ['dining experience'],\n \"The food really isn't very good and the service is terrible.\": ['food',\n  'service'],\n 'Not only do they have the best escargot in town,they always try to accomodate our toddler.': ['escargot'],\n 'Between my guest and I, we sampled at least 80% of the menu, and they were all hits.': ['menu'],\n 'The Deco and ambiance was really romantic.': ['Deco', 'ambiance'],\n 'Just go in and sample the greatest french food west of Daniel.': ['french food'],\n \"For someone who used to hate Indian food, Baluchi's has changed my mid.\": ['Indian food'],\n 'Finally a curry that I can eat, enjoy and not suffer from gastritis from 3 hours later.': ['curry'],\n 'All are GREAT - poori, naan, paratha all FRESH.': ['poori',\n  'naan',\n  'paratha'],\n 'Try the homemade breads.': ['homemade breads'],\n \"This place has beautiful sushi, and it's delicious CHEAP.\": ['sushi'],\n 'It also has lots of other Korean dishes that are affordable and just as yummy.': ['Korean dishes'],\n 'I went for restaurant week and ordered off the prix fixe menu': ['prix fixe menu'],\n 'Not only was the waiter efficient and courteous, but also extremely helpful.': ['waiter'],\n 'This place is classy, chic, the service is warm and hospitable, and the food is outstanding.': ['place',\n  'service',\n  'food'],\n 'Great burgers, grilled cheeses and french fries.': ['burgers',\n  'grilled cheeses',\n  'french fries'],\n \"The Yellowfin Tuna and Calf's liver are my favorites!\": ['Yellowfin Tuna',\n  \"Calf's liver\"],\n 'Sushi so fresh that it crunches in your mouth.': ['Sushi'],\n 'But make sure you have enough room on your credit card as the bill will leave a big dent in your wallet.': ['bill'],\n 'They bring a sauce cart up to your table and offer you up to 7 or 8 choices of sauces for your steak (I tried them ALL).': ['steak',\n  'choices of sauces',\n  'sauce cart',\n  'table'],\n 'Not only was the sushi fresh, they also served other entrees allowed each guest something to choose from and we all left happy (try the duck!': ['sushi',\n  'duck',\n  'entrees'],\n 'good variety but nothing surprising.': ['variety'],\n 'After I paid for my purchase, I noticed they had not given me utensils so I could eat my pie.': ['utensils',\n  'pie'],\n \"Likewise if you like really thin crust or really big slices then Nick and Joe's may not be your favorite.\": ['thin crust',\n  'slices'],\n 'No green beans, no egg, no anchovy dressing, no nicoise olives, no red onion.': ['green beans',\n  'egg',\n  'anchovy dressing',\n  'nicoise olives',\n  'red onion'],\n \"Build a meal with side orders like Amazin' Greens salads, Buffalo Chicken Kickers and Cinna Stix.\": ['meal',\n  \"Amazin' Greens salads\",\n  'Buffalo Chicken Kickers',\n  'Cinna Stix',\n  'side orders'],\n 'Thick fries, meaty chili and stuffed baked potatoes round out a menu that includes a cool, ultra-thick chocolate Frosty.': ['fries',\n  'meaty chili',\n  'stuffed baked potatoes',\n  'menu',\n  'chocolate Frosty'],\n 'I always find myself asking the waiter to make something bland and different than what is on the menu.': ['waiter',\n  'menu'],\n \"Good cake BUT: it was not the best cake i've ever had, and definately not worth standing outside on the sidewalk being herded like cattle by indifferent and overworked employees.\": ['cake',\n  'employees'],\n 'The closest that I got was the Cherry Marscapone, but they were out of it that day.': ['Cherry Marscapone'],\n 'The homage to India is most evident in the delectable roti canai appetizer, a fried pancake served with pungent curry dipping sauce, while the mango chicken offers a surprisingly sophisticated, fresh take on sweet-and-sour.': ['roti canai appetizer',\n  'mango chicken',\n  'fried pancake served with pungent curry dipping sauce'],\n \"It doesn't look like much on the outside, but the minute you walk inside, it's a whole other atmosphere.\": ['outside',\n  'atmosphere'],\n 'The ground chickpea soup we sampled as a starter tasted somewhat thin.': ['ground chickpea soup',\n  'starter'],\n 'We requested they re-slice the sushi, and it was returned to us in small cheese-like cubes.': ['sushi'],\n 'The service, however, is a peg or two below the quality of food (horrible bartenders), and the clientele, for the most part, are rowdy, loud-mouthed commuters (this could explain the bad attitudes from the staff) getting loaded for an AC/DC concert or a Knicks game.': ['service',\n  'quality of food',\n  'bartenders',\n  'clientele',\n  'staff'],\n \"If you're in the neighborhood, definitely stop by for a great meal.\": ['meal'],\n \"Unfortunately, with our show tickets, we didn't have time to sample any desserts.\": ['desserts'],\n 'Make more tables- perhaps a rooftop bar?': ['tables', 'rooftop bar'],\n 'The decoration was feeling like we was on the Cairo, actually the street is part of that adventure.': ['decoration'],\n \"Although small, it has beautiful ambience, excellent food (the catfish is delicious - if ya don't mind it a lil salty) and attentive service.\": ['ambience',\n  'food',\n  'catfish',\n  'service'],\n \"I didn't go there for food so I can't comment.\": ['food'],\n 'Stick to the items the place does best, brisket, ribs, wings, cajun shrimp is good, not great.': ['brisket',\n  'ribs',\n  'wings',\n  'cajun shrimp'],\n 'Hip boutiques and bars on Ludlow add to the artsy, laid-back atmosphere at this Israeli-style takeout and eat-in burger joint.': ['atmosphere'],\n 'Young neighborhood trendies graze at the counter during the day, while chic, art-house drinkers with heavy doses of the munchies pile in late at night.': ['counter'],\n 'Bring your date and a bottle of wine!': ['bottle of wine'],\n \"My Chelsea's impressive and creative menu includes modern, Westernized Japanese dishes such as Foie Gras Unagi Napolean, Jap style hamburger steak, spicy cod roe spaghetti, black cod with miso base, and rack of lamb in black truffle sauce, to name a few.\": ['menu',\n  'Japanese dishes',\n  'Foie Gras Unagi Napolean',\n  'Jap style hamburger steak',\n  'spicy cod roe spaghetti',\n  'black cod with miso base',\n  'rack of lamb in black truffle sauce'],\n 'His food is excellent (and not expensive by NYC standards- no entrees over $30, most appetizers $12 to 14).': ['food',\n  'appetizers',\n  'entrees'],\n 'The food is consistant and good but how it got name Best Diner In Manhattan is beyond me.': ['food'],\n 'The pasta primavera was outstanding as well, lots of fresh veggies.': ['pasta primavera',\n  'fresh veggies'],\n \"don't get me wrong - sushi was good, just not fantastic.\": ['sushi'],\n \"Being Puerto Rican I know a thing or two about flan and this place serves one of the best (I hope Mom doesn't read this!).\": ['flan'],\n 'Been to the one in Brooklyn for over 25 years, now I dont have to go over the bridge for the best pizza ....Hanx': ['pizza'],\n 'Had dinner here on a Friday and the food was great.': ['dinner', 'food'],\n \"We recently spent New Year's Eve at the restaurant, and had a great experience, from the wine to the dessert menu.\": ['wine',\n  'dessert menu'],\n \"Highly recommended...  As stated, I haven't dined *in* the restaurant but stopped by there to pick up takeout and it seems a very relaxing place; also, the bar looks nice.\": ['place',\n  'bar',\n  'takeout'],\n 'The ambiance was fine, a little loud but still nice and romantic.': ['ambiance'],\n 'but, the filet mignon was not very good at all cocktail hour includes free appetizers (nice non-sushi selection).': ['cocktail hour',\n  'filet mignon',\n  'non-sushi selection',\n  'appetizers'],\n 'It took about 2 1/2 hours to be served our 2 courses.': ['courses',\n  'served'],\n 'Who said go when the place is quiet during the day?': ['place'],\n 'Can be a bit busy around peak times because of the size.': ['size'],\n 'I was on jury duty, rode my bike up Centre Street on my lunch break and came across this great little place with awesome chicken tacos and Hibiscus lemonade.': ['chicken tacos',\n  'Hibiscus lemonade',\n  'place'],\n 'good place to hang out during the day after shopping or to grab a simple soup or classic french dish over a glass of wine.': ['place',\n  'soup',\n  'french dish',\n  'glass of wine'],\n 'Very nice touch that very much fits the place.': ['place'],\n 'However, there is just something so great about being outdoors, in great landscaping, enjoying a casual drink that makes going to this place worthwhile.': ['casual drink',\n  'outdoors',\n  'place'],\n 'We were seated promptly in close proximity to the dance floor.': ['dance floor'],\n 'If you are here as a pre-show meal, hop in a cab and take the extra 10 minutes to go to the uptown location.': ['pre-show meal'],\n 'The comments about fried foods is correct (below) but the other dishes, including the lamb entree and many of the salads (avocado shrimp) were quite good.': ['fried foods',\n  'dishes',\n  'lamb entree',\n  'salads (avocado shrimp)'],\n \"Slow service, but when you're hanging around with groups of 10 or 20, who really notices?\": ['service'],\n 'The sauce is excellent (very fresh) with dabs of real mozzarella.': ['dabs of real mozzarella',\n  'sauce'],\n \"Don't ever bother - the drinks were awful, but it was the people who work there that really made this the worst experience at dining.\": ['drinks',\n  'people',\n  'dining'],\n \"The room is a little plain, but it's difficult to make such a small place exciting and I would not suggest that as a reason not to go.\": ['room',\n  'place'],\n 'Prices even outside of restaurant week were great.': ['Prices'],\n 'A small, outdoor eating area makes for a private, comfortable space to study alone or meet up with friends.': ['space',\n  'outdoor eating area'],\n 'And all the [female] servers are cute too, which is always nice.': ['[female] servers'],\n \"The best dessert, a chocolate and peanut butter tart, isn't particularly Hawaiian, but it's a small world when it comes to sweets.\": ['dessert',\n  'chocolate and peanut butter tart',\n  'sweets'],\n 'for an appetizer, their calamari is a winner.': ['appetizer', 'calamari'],\n 'Satay is one of those favorite haunts on Washington where the service and food is always on the money.': ['service',\n  'food'],\n 'After dinner I heard music playing and discovered that there is a lounge downstairs.': ['dinner',\n  'music',\n  'lounge'],\n 'The room is a gorgeous, bi-level space and the long bar perfect for a drink.': ['room',\n  'bi-level space',\n  'long bar',\n  'drink'],\n 'Two complaints- their appetizer selection stinks, it would be nice to get some mozzarella sticks on the menu.': ['appetizer selection',\n  'mozzarella sticks',\n  'menu'],\n 'I was especially impressed during the bday party when the waitstaff went above and beyond in helping me decorate and bring out a bday cake as well as offering prompt and friendly service to a 15 person party.': ['waitstaff',\n  'service'],\n 'The chicken and falafel platters were nondescript combinations with fresh leaf salad.': ['chicken and falafel platters',\n  'fresh leaf salad'],\n 'The atmosphere takes you to that place, the place many dream of.': ['atmosphere'],\n \"several times and put up with the waiters' bad manners, knowing that their job isn't easy.\": ['waiters'],\n 'The service is great (maybe even borderline nagging but at least you get attention), the desserts are excellent and the coffee is so very good?': ['desserts',\n  'coffee'],\n 'They are served on Focacchia bread and are to die for.': ['served',\n  'Focacchia bread'],\n 'While the smoothies are a little big for me, the fresh juices are the best I have ever had!': ['smoothies',\n  'fresh juices'],\n \"The food is just OKAY, and it's almost not worth going unless you're getting the pialla, which is the only dish that's really good.\": ['pialla',\n  'dish'],\n 'The guac is fresh, yet lacking flavor, we like to add our fresh salsa into it.': ['fresh salsa',\n  'flavor'],\n \"The new menu has a few creative items,they were smart enough to keep some of the old favorites (but they raised the prices), the staff is friendly most of the time, but I must agree with the person that wrote about their favorite words: No, can't, sorry..., boy, they won't bend the rules for anyone.\": ['prices',\n  'new menu'],\n \"It' only open for lunch but the food is so good!\": ['lunch', 'food'],\n 'If you like seafood and/or Greek food you will love this place though it is not limited to just these things.': ['seafood',\n  'Greek food'],\n '\" The menu includes pub fare--burgers, steaks and shepherds pie--and even a portabella lasagna for those black sheep known as \"vegetarians.': ['menu',\n  'burgers',\n  'steaks',\n  'shepherds pie',\n  'portabella lasagna',\n  'pub fare'],\n 'How can they survive serving mediocre food at exorbitant prices?!': ['food',\n  'prices'],\n 'The food was mediocre and the service was severely slow.': ['service',\n  'food'],\n 'i have eaten here on a different occasion - the food is mediocre for the prices.': ['food',\n  'prices'],\n \"I'm looking forward to going back soon and eventually trying most everything on the menu!\": ['menu'],\n \"I just had my first visit to this place and can't wait to go back and slowly work my way through the menu.\": ['menu'],\n 'I asked repeatedly what the status of the meal was and was pretty much grunted at by the unbelievably rude waiter.': ['waiter',\n  'meal'],\n 'I stopped by for some brunch today and had the vegan cranberry pancakes and some rice milk.': ['brunch',\n  'vegan cranberry pancakes',\n  'rice milk'],\n 'Sweet Irish bartender is always happy and able to bring a smile to my friends a my face.': ['bartender'],\n \"Its good to go there for drinks if you don't want to get drunk because you'll be lucky if you can get one drink an hour the service is so bad.\": ['service',\n  'drink',\n  'drinks'],\n 'Anyway, the owner was fake.': ['owner'],\n 'Owner is pleasant and entertaining.': ['Owner'],\n 'I have never in my life sent back food before, but I simply had to, and the waiter argued with me over this.': ['food',\n  'waiter'],\n 'Although the restaurant itself is nice, I prefer not to go for the food.': ['food'],\n 'Creamy appetizers--taramasalata, eggplant salad, and Greek yogurt (with cuccumber, dill, and garlic) taste excellent when on warm pitas.': ['Creamy appetizers',\n  'warm pitas',\n  'taramasalata',\n  'eggplant salad',\n  'Greek yogurt (with cuccumber, dill, and garlic)']}"
     },
     "execution_count": 38,
     "metadata": {},
     "output_type": "execute_result"
    }
   ],
   "source": [
    "all_test_aspects"
   ],
   "metadata": {
    "collapsed": false,
    "ExecuteTime": {
     "end_time": "2024-06-25T20:18:10.596490Z",
     "start_time": "2024-06-25T20:18:10.530218Z"
    }
   },
   "id": "cbbb52e91f363e42",
   "execution_count": 38
  },
  {
   "cell_type": "code",
   "outputs": [
    {
     "data": {
      "text/plain": "0       But O -1 -1\\nthe O -1 -1\\nstaff O -1 -1\\nwas O...\n1       To O -1 -1\\nbe O -1 -1\\ncompletely O -1 -1\\nfa...\n2       The O -1 -1\\nfood O -1 -1\\nis O -1 -1\\nuniform...\n3       The O -1 -1\\nfood O -1 -1\\nis O -1 -1\\nuniform...\n4       The O -1 -1\\nfood O -1 -1\\nis O -1 -1\\nuniform...\n                              ...                        \n3693    Each O -1 -1\\ntable O -1 -1\\nhas O -1 -1\\na O ...\n3694    Each O -1 -1\\ntable O -1 -1\\nhas O -1 -1\\na O ...\n3695    Each O -1 -1\\ntable O -1 -1\\nhas O -1 -1\\na O ...\n3696    Each O -1 -1\\ntable O -1 -1\\nhas O -1 -1\\na O ...\n3697    Each O -1 -1\\ntable O -1 -1\\nhas O -1 -1\\na O ...\nLength: 3607, dtype: object"
     },
     "execution_count": 39,
     "metadata": {},
     "output_type": "execute_result"
    }
   ],
   "source": [
    "formatted_train_data"
   ],
   "metadata": {
    "collapsed": false,
    "ExecuteTime": {
     "end_time": "2024-06-25T20:18:10.615154Z",
     "start_time": "2024-06-25T20:18:10.599583Z"
    }
   },
   "id": "bd987dbd6c4b1c6a",
   "execution_count": 39
  },
  {
   "cell_type": "code",
   "outputs": [
    {
     "name": "stdout",
     "output_type": "stream",
     "text": [
      "0       The O -1 -1\\nbread O -1 -1\\nis O -1 -1\\ntop O ...\n",
      "1       I O -1 -1\\nhave O -1 -1\\nto O -1 -1\\nsay O -1 ...\n",
      "2       Food O -1 -1\\nis O -1 -1\\nalways O -1 -1\\nfres...\n",
      "3       Did O -1 -1\\nI O -1 -1\\nmention O -1 -1\\nthat ...\n",
      "5       Certainly O -1 -1\\nnot O -1 -1\\nthe O -1 -1\\nb...\n",
      "                              ...                        \n",
      "1129    Creamy O -1 -1\\nappetizers O -1 -1\\n-- O -1 -1...\n",
      "1130    Creamy O -1 -1\\nappetizers O -1 -1\\n-- O -1 -1...\n",
      "1131    Creamy O -1 -1\\nappetizers O -1 -1\\n-- O -1 -1...\n",
      "1132    Creamy O -1 -1\\nappetizers O -1 -1\\n-- O -1 -1...\n",
      "1133    Creamy O -1 -1\\nappetizers O -1 -1\\n-- O -1 -1...\n",
      "Length: 1120, dtype: object\n"
     ]
    }
   ],
   "source": [
    "print(formatted_test_data)"
   ],
   "metadata": {
    "collapsed": false,
    "ExecuteTime": {
     "end_time": "2024-06-25T20:18:12.019891Z",
     "start_time": "2024-06-25T20:18:12.006505Z"
    }
   },
   "id": "b2d74cd00864d634",
   "execution_count": 40
  },
  {
   "cell_type": "code",
   "outputs": [
    {
     "data": {
      "text/plain": "pandas.core.series.Series"
     },
     "execution_count": 41,
     "metadata": {},
     "output_type": "execute_result"
    }
   ],
   "source": [
    "type(formatted_train_data)"
   ],
   "metadata": {
    "collapsed": false,
    "ExecuteTime": {
     "end_time": "2024-06-25T20:18:12.592625Z",
     "start_time": "2024-06-25T20:18:12.568583Z"
    }
   },
   "id": "8f3c69fa992ee49e",
   "execution_count": 41
  },
  {
   "cell_type": "code",
   "outputs": [],
   "source": [
    "# Write the Series to a .dat file manually\n",
    "with open('Restaurants.atepc.train.dat', 'w') as f:\n",
    "    for item in formatted_train_data:\n",
    "        f.write(\"%s\\n\\n\" % item)\n"
   ],
   "metadata": {
    "collapsed": false,
    "ExecuteTime": {
     "end_time": "2024-06-25T20:23:02.855319Z",
     "start_time": "2024-06-25T20:23:02.771948Z"
    }
   },
   "id": "8e742b2cedb260c3",
   "execution_count": 50
  },
  {
   "cell_type": "code",
   "outputs": [],
   "source": [
    "# Write the Series to a .dat file manually\n",
    "with open('Restaurants.atepc.test.dat', 'w') as f:\n",
    "    for item in formatted_test_data:\n",
    "        f.write(\"%s\\n\\n\" % item)\n"
   ],
   "metadata": {
    "collapsed": false,
    "ExecuteTime": {
     "end_time": "2024-06-25T20:23:03.201993Z",
     "start_time": "2024-06-25T20:23:03.173862Z"
    }
   },
   "id": "cfaf17dc1a82087e",
   "execution_count": 51
  },
  {
   "cell_type": "code",
   "outputs": [],
   "source": [],
   "metadata": {
    "collapsed": false,
    "ExecuteTime": {
     "end_time": "2024-06-25T20:18:14.480019Z",
     "start_time": "2024-06-25T20:18:14.466123Z"
    }
   },
   "id": "c12ca8f8953f6c80",
   "execution_count": 43
  },
  {
   "cell_type": "code",
   "outputs": [],
   "source": [],
   "metadata": {
    "collapsed": false,
    "ExecuteTime": {
     "end_time": "2024-06-24T18:58:57.528230Z",
     "start_time": "2024-06-24T18:58:57.518014Z"
    }
   },
   "id": "4f4045528bc783f7",
   "execution_count": 118
  },
  {
   "cell_type": "code",
   "outputs": [],
   "source": [],
   "metadata": {
    "collapsed": false,
    "ExecuteTime": {
     "end_time": "2024-06-24T18:58:57.564358Z",
     "start_time": "2024-06-24T18:58:57.538687Z"
    }
   },
   "id": "12981b0bb0503616",
   "execution_count": 118
  },
  {
   "cell_type": "code",
   "outputs": [],
   "source": [],
   "metadata": {
    "collapsed": false,
    "ExecuteTime": {
     "end_time": "2024-06-24T18:58:57.584860Z",
     "start_time": "2024-06-24T18:58:57.575094Z"
    }
   },
   "id": "a7ea79a499ba8cc",
   "execution_count": 118
  }
 ],
 "metadata": {
  "kernelspec": {
   "display_name": "Python 3",
   "language": "python",
   "name": "python3"
  },
  "language_info": {
   "codemirror_mode": {
    "name": "ipython",
    "version": 2
   },
   "file_extension": ".py",
   "mimetype": "text/x-python",
   "name": "python",
   "nbconvert_exporter": "python",
   "pygments_lexer": "ipython2",
   "version": "2.7.6"
  }
 },
 "nbformat": 4,
 "nbformat_minor": 5
}
