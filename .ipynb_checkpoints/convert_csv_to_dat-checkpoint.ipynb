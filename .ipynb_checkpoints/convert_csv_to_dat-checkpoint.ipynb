{
 "cells": [
  {
   "cell_type": "code",
   "execution_count": 1,
   "id": "9cd94e78",
   "metadata": {
    "ExecuteTime": {
     "end_time": "2024-06-07T20:11:23.576821Z",
     "start_time": "2024-06-07T20:11:23.299062Z"
    }
   },
   "outputs": [
    {
     "name": "stderr",
     "output_type": "stream",
     "text": [
      "C:\\Users\\hp\\anaconda3\\lib\\site-packages\\scipy\\__init__.py:138: UserWarning: A NumPy version >=1.16.5 and <1.23.0 is required for this version of SciPy (detected version 1.24.4)\n",
      "  warnings.warn(f\"A NumPy version >={np_minversion} and <{np_maxversion} is required for this version of \"\n"
     ]
    }
   ],
   "source": [
    "import pandas as pd\n",
    "from sklearn.model_selection import train_test_split\n",
    "import string\n",
    "\n",
    "# Function to convert a row to .dat format\n",
    "# Function to convert a row to .dat format\n",
    "def convert_row_to_dat(row, emotion_map):\n",
    "    sentence = row['Review Sentence']\n",
    "    words = sentence.split()\n",
    "    aspect_term = row['Aspect term']\n",
    "    polarity = row['polarity']\n",
    "    from_idx = row['from']\n",
    "    to_idx = row['to']\n",
    "    emotion_class = row['Emotion Class']\n",
    "\n",
    "    dat_lines = []\n",
    "    current_idx = 0\n",
    "\n",
    "    for word in words:\n",
    "        clean_word = word.strip(string.punctuation)  # Remove punctuation from the word\n",
    "        word_start_idx = sentence.find(clean_word, current_idx)\n",
    "        word_end_idx = word_start_idx + len(clean_word)\n",
    "\n",
    "        # Determine aspect term tag and polarity tag\n",
    "        if word_start_idx >= from_idx and word_end_idx <= to_idx:\n",
    "            aspect_tag = 'B-ASP' if sentence[from_idx:to_idx+1].find(clean_word) == 0 else 'I-ASP'\n",
    "            polarity_tag = {\n",
    "                'negative': 0,\n",
    "                'neutral': 1,\n",
    "                'positive': 2,\n",
    "                'conflict': 3,\n",
    "            }.get(polarity, -1)\n",
    "            emotion_tag = emotion_map[emotion_class] \n",
    "        else:\n",
    "            aspect_tag = 'O'\n",
    "            polarity_tag = -1 \n",
    "            # emotion_tag = emotion_map[emotion_class] \n",
    "            emotion_tag = -1\n",
    "\n",
    "\n",
    "        dat_line = f\"{word} {aspect_tag} {polarity_tag} {emotion_tag}\"\n",
    "        # dat_line = f\"{word} {aspect_tag} {polarity_tag}\"\n",
    "        dat_lines.append(dat_line)\n",
    "        current_idx = word_end_idx\n",
    "\n",
    "    dat_lines.append(\"\")  \n",
    "    return \"\\n\".join(dat_lines)\n",
    "def convert_and_save(df, output_dat):\n",
    "    # Manually specify the mapping of emotion classes to integers\n",
    "    emotion_map = {\n",
    "        \"Anger\": 0,\n",
    "        \"Disgust\": 1,\n",
    "        \"Fear\": 2,\n",
    "        \"Joy\": 3,\n",
    "        \"Sadness\": 4,\n",
    "        \"Surprise\": 5\n",
    "    }\n",
    "    dat_content = df.apply(lambda row: convert_row_to_dat(row, emotion_map), axis=1).str.cat(sep='\\n')\n",
    "    with open(output_dat, 'w') as f:\n",
    "        f.write(dat_content)\n",
    "    print(f\"Data successfully converted to {output_dat} format.\")"
   ]
  },
  {
   "cell_type": "code",
   "execution_count": 2,
   "id": "19cf04e2",
   "metadata": {
    "ExecuteTime": {
     "end_time": "2024-06-08T09:46:20.827758Z",
     "start_time": "2024-06-08T09:46:20.691266Z"
    }
   },
   "outputs": [
    {
     "data": {
      "text/html": [
       "<div>\n",
       "<style scoped>\n",
       "    .dataframe tbody tr th:only-of-type {\n",
       "        vertical-align: middle;\n",
       "    }\n",
       "\n",
       "    .dataframe tbody tr th {\n",
       "        vertical-align: top;\n",
       "    }\n",
       "\n",
       "    .dataframe thead th {\n",
       "        text-align: right;\n",
       "    }\n",
       "</style>\n",
       "<table border=\"1\" class=\"dataframe\">\n",
       "  <thead>\n",
       "    <tr style=\"text-align: right;\">\n",
       "      <th></th>\n",
       "      <th>id</th>\n",
       "      <th>Review Sentence</th>\n",
       "      <th>Aspect term</th>\n",
       "      <th>polarity</th>\n",
       "      <th>from</th>\n",
       "      <th>to</th>\n",
       "      <th>Anger</th>\n",
       "      <th>Disgust</th>\n",
       "      <th>Fear</th>\n",
       "      <th>Joy</th>\n",
       "      <th>Sadness</th>\n",
       "      <th>Surprise</th>\n",
       "      <th>Emotion Class</th>\n",
       "    </tr>\n",
       "  </thead>\n",
       "  <tbody>\n",
       "    <tr>\n",
       "      <th>0</th>\n",
       "      <td>3121.0</td>\n",
       "      <td>But the staff was so horrible to us.</td>\n",
       "      <td>staff</td>\n",
       "      <td>negative</td>\n",
       "      <td>8</td>\n",
       "      <td>13</td>\n",
       "      <td>4.0</td>\n",
       "      <td>1.0</td>\n",
       "      <td>1.0</td>\n",
       "      <td>0.0</td>\n",
       "      <td>3.0</td>\n",
       "      <td>1.0</td>\n",
       "      <td>Anger</td>\n",
       "    </tr>\n",
       "    <tr>\n",
       "      <th>1</th>\n",
       "      <td>2777.0</td>\n",
       "      <td>To be completely fair, the only redeeming fact...</td>\n",
       "      <td>food</td>\n",
       "      <td>positive</td>\n",
       "      <td>57</td>\n",
       "      <td>61</td>\n",
       "      <td>0.0</td>\n",
       "      <td>0.0</td>\n",
       "      <td>0.0</td>\n",
       "      <td>2.0</td>\n",
       "      <td>0.0</td>\n",
       "      <td>0.0</td>\n",
       "      <td>Joy</td>\n",
       "    </tr>\n",
       "    <tr>\n",
       "      <th>2</th>\n",
       "      <td>1634.0</td>\n",
       "      <td>The food is uniformly exceptional, with a very...</td>\n",
       "      <td>food</td>\n",
       "      <td>positive</td>\n",
       "      <td>4</td>\n",
       "      <td>8</td>\n",
       "      <td>0.0</td>\n",
       "      <td>0.0</td>\n",
       "      <td>0.0</td>\n",
       "      <td>4.0</td>\n",
       "      <td>0.0</td>\n",
       "      <td>0.0</td>\n",
       "      <td>Joy</td>\n",
       "    </tr>\n",
       "    <tr>\n",
       "      <th>3</th>\n",
       "      <td>1634.0</td>\n",
       "      <td>The food is uniformly exceptional, with a very...</td>\n",
       "      <td>kitchen</td>\n",
       "      <td>positive</td>\n",
       "      <td>55</td>\n",
       "      <td>62</td>\n",
       "      <td>0.0</td>\n",
       "      <td>0.0</td>\n",
       "      <td>0.0</td>\n",
       "      <td>4.0</td>\n",
       "      <td>0.0</td>\n",
       "      <td>0.0</td>\n",
       "      <td>Joy</td>\n",
       "    </tr>\n",
       "    <tr>\n",
       "      <th>4</th>\n",
       "      <td>1634.0</td>\n",
       "      <td>The food is uniformly exceptional, with a very...</td>\n",
       "      <td>menu</td>\n",
       "      <td>neutral</td>\n",
       "      <td>141</td>\n",
       "      <td>145</td>\n",
       "      <td>0.0</td>\n",
       "      <td>0.0</td>\n",
       "      <td>0.0</td>\n",
       "      <td>4.0</td>\n",
       "      <td>0.0</td>\n",
       "      <td>0.0</td>\n",
       "      <td>Joy</td>\n",
       "    </tr>\n",
       "    <tr>\n",
       "      <th>...</th>\n",
       "      <td>...</td>\n",
       "      <td>...</td>\n",
       "      <td>...</td>\n",
       "      <td>...</td>\n",
       "      <td>...</td>\n",
       "      <td>...</td>\n",
       "      <td>...</td>\n",
       "      <td>...</td>\n",
       "      <td>...</td>\n",
       "      <td>...</td>\n",
       "      <td>...</td>\n",
       "      <td>...</td>\n",
       "      <td>...</td>\n",
       "    </tr>\n",
       "    <tr>\n",
       "      <th>4828</th>\n",
       "      <td>NaN</td>\n",
       "      <td>Each table has a pot of boiling water sunken i...</td>\n",
       "      <td>pot of boiling water</td>\n",
       "      <td>neutral</td>\n",
       "      <td>17</td>\n",
       "      <td>37</td>\n",
       "      <td>2.0</td>\n",
       "      <td>2.0</td>\n",
       "      <td>0.0</td>\n",
       "      <td>1.0</td>\n",
       "      <td>0.0</td>\n",
       "      <td>0.0</td>\n",
       "      <td>Anger</td>\n",
       "    </tr>\n",
       "    <tr>\n",
       "      <th>4829</th>\n",
       "      <td>NaN</td>\n",
       "      <td>Each table has a pot of boiling water sunken i...</td>\n",
       "      <td>meats</td>\n",
       "      <td>neutral</td>\n",
       "      <td>99</td>\n",
       "      <td>104</td>\n",
       "      <td>0.0</td>\n",
       "      <td>0.0</td>\n",
       "      <td>0.0</td>\n",
       "      <td>3.0</td>\n",
       "      <td>0.0</td>\n",
       "      <td>1.0</td>\n",
       "      <td>Joy</td>\n",
       "    </tr>\n",
       "    <tr>\n",
       "      <th>4830</th>\n",
       "      <td>NaN</td>\n",
       "      <td>Each table has a pot of boiling water sunken i...</td>\n",
       "      <td>vegetables</td>\n",
       "      <td>neutral</td>\n",
       "      <td>114</td>\n",
       "      <td>124</td>\n",
       "      <td>0.0</td>\n",
       "      <td>0.0</td>\n",
       "      <td>0.0</td>\n",
       "      <td>2.0</td>\n",
       "      <td>0.0</td>\n",
       "      <td>1.0</td>\n",
       "      <td>Joy</td>\n",
       "    </tr>\n",
       "    <tr>\n",
       "      <th>4831</th>\n",
       "      <td>NaN</td>\n",
       "      <td>Each table has a pot of boiling water sunken i...</td>\n",
       "      <td>rice</td>\n",
       "      <td>neutral</td>\n",
       "      <td>130</td>\n",
       "      <td>134</td>\n",
       "      <td>0.0</td>\n",
       "      <td>0.0</td>\n",
       "      <td>0.0</td>\n",
       "      <td>2.0</td>\n",
       "      <td>0.0</td>\n",
       "      <td>1.0</td>\n",
       "      <td>Joy</td>\n",
       "    </tr>\n",
       "    <tr>\n",
       "      <th>4832</th>\n",
       "      <td>NaN</td>\n",
       "      <td>Each table has a pot of boiling water sunken i...</td>\n",
       "      <td>glass noodles</td>\n",
       "      <td>neutral</td>\n",
       "      <td>139</td>\n",
       "      <td>152</td>\n",
       "      <td>0.0</td>\n",
       "      <td>0.0</td>\n",
       "      <td>0.0</td>\n",
       "      <td>2.0</td>\n",
       "      <td>0.0</td>\n",
       "      <td>1.0</td>\n",
       "      <td>Joy</td>\n",
       "    </tr>\n",
       "  </tbody>\n",
       "</table>\n",
       "<p>4833 rows × 13 columns</p>\n",
       "</div>"
      ],
      "text/plain": [
       "          id                                    Review Sentence  \\\n",
       "0     3121.0               But the staff was so horrible to us.   \n",
       "1     2777.0  To be completely fair, the only redeeming fact...   \n",
       "2     1634.0  The food is uniformly exceptional, with a very...   \n",
       "3     1634.0  The food is uniformly exceptional, with a very...   \n",
       "4     1634.0  The food is uniformly exceptional, with a very...   \n",
       "...      ...                                                ...   \n",
       "4828     NaN  Each table has a pot of boiling water sunken i...   \n",
       "4829     NaN  Each table has a pot of boiling water sunken i...   \n",
       "4830     NaN  Each table has a pot of boiling water sunken i...   \n",
       "4831     NaN  Each table has a pot of boiling water sunken i...   \n",
       "4832     NaN  Each table has a pot of boiling water sunken i...   \n",
       "\n",
       "               Aspect term  polarity  from   to  Anger  Disgust  Fear  Joy  \\\n",
       "0                    staff  negative     8   13    4.0      1.0   1.0  0.0   \n",
       "1                     food  positive    57   61    0.0      0.0   0.0  2.0   \n",
       "2                     food  positive     4    8    0.0      0.0   0.0  4.0   \n",
       "3                  kitchen  positive    55   62    0.0      0.0   0.0  4.0   \n",
       "4                     menu   neutral   141  145    0.0      0.0   0.0  4.0   \n",
       "...                    ...       ...   ...  ...    ...      ...   ...  ...   \n",
       "4828  pot of boiling water   neutral    17   37    2.0      2.0   0.0  1.0   \n",
       "4829                 meats   neutral    99  104    0.0      0.0   0.0  3.0   \n",
       "4830            vegetables   neutral   114  124    0.0      0.0   0.0  2.0   \n",
       "4831                  rice   neutral   130  134    0.0      0.0   0.0  2.0   \n",
       "4832         glass noodles   neutral   139  152    0.0      0.0   0.0  2.0   \n",
       "\n",
       "      Sadness  Surprise Emotion Class  \n",
       "0         3.0       1.0         Anger  \n",
       "1         0.0       0.0           Joy  \n",
       "2         0.0       0.0           Joy  \n",
       "3         0.0       0.0           Joy  \n",
       "4         0.0       0.0           Joy  \n",
       "...       ...       ...           ...  \n",
       "4828      0.0       0.0         Anger  \n",
       "4829      0.0       1.0           Joy  \n",
       "4830      0.0       1.0           Joy  \n",
       "4831      0.0       1.0           Joy  \n",
       "4832      0.0       1.0           Joy  \n",
       "\n",
       "[4833 rows x 13 columns]"
      ]
     },
     "execution_count": 2,
     "metadata": {},
     "output_type": "execute_result"
    }
   ],
   "source": [
    "# Read the single CSV file\n",
    "df = pd.read_csv('Annotated ABSA with Emotions Dataset.csv')\n",
    "df"
   ]
  },
  {
   "cell_type": "code",
   "execution_count": 3,
   "id": "258d5d0f37cc83d1",
   "metadata": {
    "ExecuteTime": {
     "end_time": "2024-06-08T09:46:23.279475Z",
     "start_time": "2024-06-08T09:46:23.242066Z"
    }
   },
   "outputs": [
    {
     "data": {
      "text/plain": [
       "polarity\n",
       "positive    2892\n",
       "negative    1003\n",
       "neutral      833\n",
       "conflict     105\n",
       "Name: count, dtype: int64"
      ]
     },
     "execution_count": 3,
     "metadata": {},
     "output_type": "execute_result"
    }
   ],
   "source": [
    "df['polarity'].value_counts()"
   ]
  },
  {
   "cell_type": "code",
   "execution_count": 4,
   "id": "31910d58e074ce77",
   "metadata": {
    "ExecuteTime": {
     "end_time": "2024-06-08T09:46:25.033436Z",
     "start_time": "2024-06-08T09:46:25.019258Z"
    }
   },
   "outputs": [],
   "source": [
    "# drop dp row with polarity = conflict\n",
    "df = df[df['polarity'] != 'conflict']"
   ]
  },
  {
   "cell_type": "code",
   "execution_count": 5,
   "id": "70f6ac28af9140fb",
   "metadata": {
    "ExecuteTime": {
     "end_time": "2024-06-08T09:46:26.318235Z",
     "start_time": "2024-06-08T09:46:26.300808Z"
    }
   },
   "outputs": [
    {
     "data": {
      "text/plain": [
       "polarity\n",
       "positive    2892\n",
       "negative    1003\n",
       "neutral      833\n",
       "Name: count, dtype: int64"
      ]
     },
     "execution_count": 5,
     "metadata": {},
     "output_type": "execute_result"
    }
   ],
   "source": [
    "# count the class of polarity value\n",
    "df['polarity'].value_counts()"
   ]
  },
  {
   "cell_type": "code",
   "execution_count": null,
   "id": "d21a1e4adf239cd8",
   "metadata": {
    "ExecuteTime": {
     "end_time": "2024-06-07T20:12:08.933302Z",
     "start_time": "2024-06-07T20:12:05.187438Z"
    }
   },
   "outputs": [],
   "source": [
    "from imblearn.over_sampling import RandomOverSampler\n",
    "from sklearn.model_selection import train_test_split\n",
    "\n",
    "# Split the data into training and testing sets\n",
    "train_df, test_df = train_test_split(df, test_size=0.20, random_state=42,shuffle=True)\n",
    "\n",
    "# Define the target variable for the training data\n",
    "y_train = train_df['Emotion Class']\n",
    "\n",
    "# Instantiate the RandomOverSampler\n",
    "ros = RandomOverSampler()\n",
    "\n",
    "# Resample the training dataset\n",
    "X_resampled, y_resampled = ros.fit_resample(train_df, y_train)\n",
    "\n",
    "# Now, 'X_resampled' is your DataFrame with balanced 'Emotion Class' for the training data"
   ]
  },
  {
   "cell_type": "code",
   "execution_count": null,
   "id": "b60507965e938cf3",
   "metadata": {
    "ExecuteTime": {
     "end_time": "2024-06-06T10:49:15.491515Z",
     "start_time": "2024-06-06T10:49:15.473046Z"
    }
   },
   "outputs": [],
   "source": [
    "# count the number of emotion class for each value\n",
    "train_df['Emotion Class'].value_counts()"
   ]
  },
  {
   "cell_type": "code",
   "execution_count": null,
   "id": "c1e073a555e8a993",
   "metadata": {
    "ExecuteTime": {
     "end_time": "2024-06-05T14:50:32.752085Z",
     "start_time": "2024-06-05T14:50:32.733686Z"
    }
   },
   "outputs": [],
   "source": [
    "# count the number of emotion class for each value\n",
    "X_resampled['Emotion Class'].value_counts()"
   ]
  },
  {
   "cell_type": "code",
   "execution_count": null,
   "id": "cbef1508530561c8",
   "metadata": {
    "ExecuteTime": {
     "end_time": "2024-06-04T17:31:13.302746Z",
     "start_time": "2024-06-04T17:31:13.218503Z"
    }
   },
   "outputs": [],
   "source": [
    "train_df"
   ]
  },
  {
   "cell_type": "code",
   "execution_count": null,
   "id": "19f26c9c35b605b6",
   "metadata": {
    "ExecuteTime": {
     "end_time": "2024-06-04T17:31:15.564036Z",
     "start_time": "2024-06-04T17:31:15.501102Z"
    }
   },
   "outputs": [],
   "source": [
    "X_resampled"
   ]
  },
  {
   "cell_type": "code",
   "execution_count": null,
   "id": "fc68bb13dc460e54",
   "metadata": {
    "ExecuteTime": {
     "end_time": "2024-06-05T14:50:50.606089Z",
     "start_time": "2024-06-05T14:50:45.091487Z"
    }
   },
   "outputs": [],
   "source": [
    "# Convert and save the training and testing data\n",
    "convert_and_save(X_resampled, 'Restaurants.atepc.train.dat')\n",
    "convert_and_save(test_df, 'Restaurants.atepc.test.dat')"
   ]
  },
  {
   "cell_type": "code",
   "execution_count": null,
   "id": "db70dcb50aeb0c26",
   "metadata": {
    "ExecuteTime": {
     "end_time": "2024-06-04T17:29:53.967871Z",
     "start_time": "2024-06-04T17:29:53.965134Z"
    }
   },
   "outputs": [],
   "source": []
  },
  {
   "cell_type": "code",
   "execution_count": 8,
   "id": "28b71947",
   "metadata": {
    "ExecuteTime": {
     "end_time": "2024-06-08T09:46:35.371571Z",
     "start_time": "2024-06-08T09:46:34.827532Z"
    }
   },
   "outputs": [
    {
     "name": "stdout",
     "output_type": "stream",
     "text": [
      "Data successfully converted to Restaurants.atepc.train.dat format.\n",
      "Data successfully converted to Restaurants.atepc.test.dat format.\n"
     ]
    }
   ],
   "source": [
    "# Calculate the number of rows for training and testing\n",
    "train_size = int(0.75 * len(df))\n",
    "test_size = len(df) - train_size\n",
    "\n",
    "# Split the data into training and testing sets\n",
    "train_df = df.iloc[:train_size]\n",
    "test_df = df.iloc[train_size:]\n",
    "\n",
    "# Convert and save the training and testing data\n",
    "convert_and_save(train_df, 'Restaurants.atepc.train.dat')\n",
    "convert_and_save(test_df, 'Restaurants.atepc.test.dat')"
   ]
  },
  {
   "cell_type": "code",
   "execution_count": 9,
   "id": "4ec7a9e65eeb270f",
   "metadata": {
    "ExecuteTime": {
     "end_time": "2024-06-07T18:58:19.497010Z",
     "start_time": "2024-06-07T18:58:12.755031Z"
    }
   },
   "outputs": [
    {
     "name": "stderr",
     "output_type": "stream",
     "text": [
      "C:\\Users\\hp\\anaconda3\\lib\\site-packages\\seaborn\\_decorators.py:36: FutureWarning: Pass the following variable as a keyword arg: x. From version 0.12, the only valid positional argument will be `data`, and passing other arguments without an explicit keyword will result in an error or misinterpretation.\n",
      "  warnings.warn(\n"
     ]
    },
    {
     "data": {
      "image/png": "[encoded data removed]",
      "text/plain": [
       "<Figure size 720x360 with 1 Axes>"
      ]
     },
     "metadata": {
      "needs_background": "light"
     },
     "output_type": "display_data"
    }
   ],
   "source": [
    "# analyze df dataframe for check for any imbalance dataset and plot it a graph\n",
    "import matplotlib.pyplot as plt\n",
    "import seaborn as sns\n",
    "plt.figure(figsize=(10, 5))\n",
    "sns.countplot(df['Emotion Class'])\n",
    "plt.title('Emotion Class Distribution')\n",
    "plt.xlabel('Emotion Class') \n",
    "plt.ylabel('Count')\n",
    "plt.xticks(rotation=45)\n",
    "plt.show()\n"
   ]
  },
  {
   "cell_type": "code",
   "execution_count": 10,
   "id": "81bcea3ac0fdaca9",
   "metadata": {
    "ExecuteTime": {
     "end_time": "2024-06-07T19:02:18.371005Z",
     "start_time": "2024-06-07T19:02:17.580809Z"
    }
   },
   "outputs": [
    {
     "name": "stderr",
     "output_type": "stream",
     "text": [
      "C:\\Users\\hp\\anaconda3\\lib\\site-packages\\seaborn\\_decorators.py:36: FutureWarning: Pass the following variable as a keyword arg: x. From version 0.12, the only valid positional argument will be `data`, and passing other arguments without an explicit keyword will result in an error or misinterpretation.\n",
      "  warnings.warn(\n"
     ]
    },
    {
     "data": {
      "image/png": "[encoded data removed]",
      "text/plain": [
       "<Figure size 720x360 with 1 Axes>"
      ]
     },
     "metadata": {
      "needs_background": "light"
     },
     "output_type": "display_data"
    }
   ],
   "source": [
    "# analyze df dataframe for check for any imbalance for emotion feature column and polarity dataset and plot it a graph  \n",
    "plt.figure(figsize=(10, 5))\n",
    "sns.countplot(df['polarity'])   \n",
    "plt.title('Polarity Distribution')\n",
    "plt.xlabel('Polarity')\n",
    "plt.ylabel('Count')\n",
    "plt.xticks(rotation=45)\n",
    "plt.show()"
   ]
  },
  {
   "cell_type": "code",
   "execution_count": null,
   "id": "e937c726",
   "metadata": {
    "ExecuteTime": {
     "end_time": "2024-05-26T18:01:41.943218Z",
     "start_time": "2024-05-26T18:01:41.937030Z"
    }
   },
   "outputs": [],
   "source": [
    "\"\"\"\n",
    "\"Anger\": 0\n",
    "\"Disgust\": 1\n",
    "\"Fear\": 2\n",
    "\"Joy\": 3\n",
    "\"Sadness\": 4\n",
    "\"Surprise\": 5\n",
    "\"\"\""
   ]
  },
  {
   "cell_type": "markdown",
   "id": "abe6612ebd8d5a31",
   "metadata": {},
   "source": []
  },
  {
   "cell_type": "code",
   "execution_count": null,
   "id": "f57be7aa82984741",
   "metadata": {
    "ExecuteTime": {
     "end_time": "2024-06-02T09:26:38.494132Z",
     "start_time": "2024-06-02T09:26:38.280211Z"
    }
   },
   "outputs": [],
   "source": [
    "import pandas as pd\n",
    "import numpy as np\n",
    "\n",
    "# Load the .dat file into a DataFrame\n",
    "dat_train_df = pd.read_csv('atepc_datasets/restaurant/Restaurants.atepc.train.dat', sep=' ', names=['word', 'aspect_tag', 'polarity_tag'])\n",
    "dat_test_df = pd.read_csv('atepc_datasets/restaurant/Restaurants.atepc.test.dat', sep=' ', names=['word', 'aspect_tag', 'polarity_tag'])\n",
    "\n",
    "# Add a sentence_id column to dat_df to identify each sentence\n",
    "dat_train_df['sentence_id'] = (dat_train_df['word'] == '').cumsum()\n",
    "dat_test_df['sentence_id'] = (dat_test_df['word'] == '').cumsum()\n",
    "\n",
    "# Load the .csv file into a DataFrame\n",
    "csv_df = pd.read_csv('Annotated ABSA with Emotions Dataset.csv')\n",
    "\n",
    "# Calculate the number of rows for training and testing\n",
    "train_size = int(0.6 * len(csv_df))\n",
    "test_size = len(csv_df) - train_size\n",
    "\n",
    "# Split the data into training and testing sets\n",
    "csv_train_df = csv_df.iloc[:train_size]\n",
    "csv_test_df = csv_df.iloc[train_size:]\n",
    "\n"
   ]
  },
  {
   "cell_type": "code",
   "execution_count": null,
   "id": "ab22d040854711d7",
   "metadata": {
    "ExecuteTime": {
     "end_time": "2024-06-02T09:32:25.828245Z",
     "start_time": "2024-06-02T09:32:25.804712Z"
    }
   },
   "outputs": [],
   "source": [
    "csv_train_df = csv_df.iloc[:train_size].copy()\n",
    "csv_train_df['sentence_id'] = csv_train_df.groupby('Review Sentence').ngroup()"
   ]
  },
  {
   "cell_type": "code",
   "execution_count": null,
   "id": "d923b95d4ff5bd73",
   "metadata": {
    "ExecuteTime": {
     "end_time": "2024-06-02T09:32:30.394413Z",
     "start_time": "2024-06-02T09:32:30.270387Z"
    }
   },
   "outputs": [],
   "source": [
    "csv_train_df"
   ]
  },
  {
   "cell_type": "code",
   "execution_count": null,
   "id": "ca71c0164ec8aced",
   "metadata": {
    "ExecuteTime": {
     "end_time": "2024-06-02T09:37:28.162060Z",
     "start_time": "2024-06-02T09:37:28.115005Z"
    }
   },
   "outputs": [],
   "source": [
    "\n",
    "csv_test_df['sentence_id'] = csv_test_df.groupby('Review Sentence').ngroup()"
   ]
  },
  {
   "cell_type": "code",
   "execution_count": null,
   "id": "62162bc38fa4de8c",
   "metadata": {
    "ExecuteTime": {
     "end_time": "2024-06-02T09:37:32.598696Z",
     "start_time": "2024-06-02T09:37:30.237006Z"
    }
   },
   "outputs": [],
   "source": [
    "# Merge the training DataFrames on the common key\n",
    "merged_train_df = pd.merge(dat_train_df, csv_train_df, on='sentence_id')\n",
    "\n",
    "# Assign the emotion of the sentence to the words that have an aspect tag in the training set\n",
    "merged_train_df.loc[merged_train_df['aspect_tag'] != 'O', 'emotion_tag'] = merged_train_df['Emotion Class']\n",
    "\n",
    "# Replace NaN values in the 'emotion_tag' column with -1 in the training set\n",
    "merged_train_df['emotion_tag'].fillna(-1, inplace=True)\n",
    "\n",
    "# Save the merged training DataFrame back to a .dat file\n",
    "merged_train_df.to_csv('merged_train_dataset.dat', sep=' ', index=False, header=False, columns=['word', 'aspect_tag', 'polarity_tag', 'emotion_tag'])\n",
    "\n",
    "# Merge the testing DataFrames on the common key\n",
    "merged_test_df = pd.merge(dat_test_df, csv_test_df, on='sentence_id')\n",
    "\n",
    "# Assign the emotion of the sentence to the words that have an aspect tag in the testing set\n",
    "merged_test_df.loc[merged_test_df['aspect_tag'] != 'O', 'emotion_tag'] = merged_test_df['Emotion Class']\n",
    "\n",
    "# Replace NaN values in the 'emotion_tag' column with -1 in the testing set\n",
    "merged_test_df['emotion_tag'].fillna(-1, inplace=True)\n",
    "\n",
    "# Save the merged testing DataFrame back to a .dat file\n",
    "merged_test_df.to_csv('merged_test_dataset.dat', sep=' ', index=False, header=False, columns=['word', 'aspect_tag', 'polarity_tag', 'emotion_tag'])"
   ]
  },
  {
   "cell_type": "code",
   "execution_count": null,
   "id": "83ee3efdda22c461",
   "metadata": {
    "ExecuteTime": {
     "end_time": "2024-06-02T09:54:30.523446Z",
     "start_time": "2024-06-02T09:54:29.789299Z"
    }
   },
   "outputs": [],
   "source": [
    "df1 = pd.read_csv('merged_train_dataset.dat', sep=' ', names=['word', 'aspect_tag', 'polarity_tag','emotion_tag'])\n",
    "df1"
   ]
  },
  {
   "cell_type": "code",
   "execution_count": null,
   "id": "f6bb98a608a7b591",
   "metadata": {
    "ExecuteTime": {
     "end_time": "2024-06-02T09:54:38.118594Z",
     "start_time": "2024-06-02T09:54:37.868966Z"
    }
   },
   "outputs": [],
   "source": [
    "# remove any duplicate column\n",
    "df1.drop_duplicates()"
   ]
  },
  {
   "cell_type": "code",
   "execution_count": null,
   "id": "8f1ee9d294447032",
   "metadata": {
    "ExecuteTime": {
     "end_time": "2024-06-02T09:53:26.541716Z",
     "start_time": "2024-06-02T09:53:26.357522Z"
    }
   },
   "outputs": [],
   "source": [
    "df2 = pd.read_csv('merged_test_dataset.dat', sep=' ', names=['word', 'aspect_tag', 'polarity_tag','emotion_tag'])\n",
    "df2"
   ]
  },
  {
   "cell_type": "code",
   "execution_count": null,
   "id": "c7d8a036b3e66bc2",
   "metadata": {
    "ExecuteTime": {
     "end_time": "2024-06-02T09:53:56.226190Z",
     "start_time": "2024-06-02T09:53:56.080463Z"
    }
   },
   "outputs": [],
   "source": [
    "df2.drop_duplicates()"
   ]
  },
  {
   "cell_type": "code",
   "execution_count": null,
   "id": "799fb9c55dab2cc7",
   "metadata": {
    "ExecuteTime": {
     "end_time": "2024-06-02T10:11:40.344822Z",
     "start_time": "2024-06-02T10:11:39.985759Z"
    }
   },
   "outputs": [],
   "source": [
    "df3_test =df2.replace([\"Anger\",\"Disgust\",\"Fear\",\"Joy\", \"Sadness\",\"Surprise\",],[0,1,2,3,4,5])"
   ]
  },
  {
   "cell_type": "code",
   "execution_count": null,
   "id": "501225418bf5d0b5",
   "metadata": {
    "ExecuteTime": {
     "end_time": "2024-06-02T10:13:37.494741Z",
     "start_time": "2024-06-02T10:13:37.387743Z"
    }
   },
   "outputs": [],
   "source": [
    "df3_test=df3_test.drop_duplicates()"
   ]
  },
  {
   "cell_type": "code",
   "execution_count": null,
   "id": "fd727b4bde832e92",
   "metadata": {
    "ExecuteTime": {
     "end_time": "2024-06-02T10:13:01.097387Z",
     "start_time": "2024-06-02T10:12:58.866603Z"
    }
   },
   "outputs": [],
   "source": [
    "df3_train =df1.replace([\"Anger\",\"Disgust\",\"Fear\",\"Joy\", \"Sadness\",\"Surprise\",],[0,1,2,3,4,5])"
   ]
  },
  {
   "cell_type": "code",
   "execution_count": null,
   "id": "f1196827e4858be0",
   "metadata": {
    "ExecuteTime": {
     "end_time": "2024-06-02T10:13:54.209104Z",
     "start_time": "2024-06-02T10:13:53.564522Z"
    }
   },
   "outputs": [],
   "source": [
    "df3_train= df3_train.drop_duplicates()"
   ]
  },
  {
   "cell_type": "code",
   "execution_count": null,
   "id": "68cef9c54ccd12bb",
   "metadata": {
    "ExecuteTime": {
     "end_time": "2024-06-02T10:17:09.344628Z",
     "start_time": "2024-06-02T10:17:09.317936Z"
    }
   },
   "outputs": [],
   "source": [
    "df3_train"
   ]
  },
  {
   "cell_type": "code",
   "execution_count": null,
   "id": "9219198929b99aad",
   "metadata": {
    "ExecuteTime": {
     "end_time": "2024-06-02T10:17:21.937440Z",
     "start_time": "2024-06-02T10:17:21.910062Z"
    }
   },
   "outputs": [],
   "source": [
    "df3_test"
   ]
  },
  {
   "cell_type": "code",
   "execution_count": null,
   "id": "a7c82c300d076ac1",
   "metadata": {},
   "outputs": [],
   "source": [
    "# save train\n",
    "df3_train.to_csv('Restaurants.atepc.train.dat', sep=' ', index=False, header=False, columns=['word', 'aspect_tag', 'polarity_tag', 'emotion_tag'])"
   ]
  },
  {
   "cell_type": "code",
   "execution_count": null,
   "id": "7a8708c2c004b579",
   "metadata": {
    "ExecuteTime": {
     "end_time": "2024-06-02T10:16:03.395444Z",
     "start_time": "2024-06-02T10:16:03.343493Z"
    }
   },
   "outputs": [],
   "source": [
    "# save train\n",
    "df3_test.to_csv('Restaurants.atepc.test.dat', sep=' ', index=False, header=False, columns=['word', 'aspect_tag', 'polarity_tag', 'emotion_tag'])"
   ]
  }
 ],
 "metadata": {
  "kernelspec": {
   "display_name": "Python 3",
   "language": "python",
   "name": "python3"
  },
  "language_info": {
   "codemirror_mode": {
    "name": "ipython",
    "version": 3
   },
   "file_extension": ".py",
   "mimetype": "text/x-python",
   "name": "python",
   "nbconvert_exporter": "python",
   "pygments_lexer": "ipython3",
   "version": "3.8.8"
  }
 },
 "nbformat": 4,
 "nbformat_minor": 5
}
